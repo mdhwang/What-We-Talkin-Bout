{
 "cells": [
  {
   "cell_type": "code",
   "execution_count": 1,
   "metadata": {},
   "outputs": [],
   "source": [
    "top_50_west_coast = ['Tupac Shakur','Ice Cube','Snoop Dogg','Dr.Dre','Kendrick Lamar','N.W.A']"
   ]
  },
  {
   "cell_type": "code",
   "execution_count": 2,
   "metadata": {},
   "outputs": [],
   "source": [
    "import copy\n",
    "import pandas as pd\n",
    "import time\n",
    "\n",
    "# Requests sends and recieves HTTP requests.\n",
    "import requests\n",
    "\n",
    "# Beautiful Soup parses HTML documents in python.\n",
    "from bs4 import BeautifulSoup"
   ]
  },
  {
   "cell_type": "code",
   "execution_count": 48,
   "metadata": {},
   "outputs": [
    {
     "data": {
      "text/plain": [
       "200"
      ]
     },
     "execution_count": 48,
     "metadata": {},
     "output_type": "execute_result"
    }
   ],
   "source": [
    "web_url = 'https://www.ranker.com/list/southern-rap-bands-and-musicians/reference'\n",
    "r = requests.get(web_url)\n",
    "r.status_code"
   ]
  },
  {
   "cell_type": "code",
   "execution_count": 49,
   "metadata": {},
   "outputs": [],
   "source": [
    "soup = BeautifulSoup(r.content, \"html.parser\")"
   ]
  },
  {
   "cell_type": "code",
   "execution_count": 50,
   "metadata": {},
   "outputs": [
    {
     "data": {
      "text/plain": [
       "<div class=\"listItem__data\"> <!--googleoff: all--> <span class=\"listItem__info block\"> </span> <!--googleon: all--> <meta content=\"Outkast\" itemprop=\"name\"/> <a class=\"listItem__title listItem__title--link black $tkl\" data-tkl-params=\"listId=101247&amp;nodeId=1739196\" href=\"http://target.georiot.com/Proxy.ashx?TSID=5036&amp;GR_URL=http%3A%2F%2Fwww.amazon.com%2Fs%2Fref%3Das_li_ss_tl%3Furl%3Dsearch-alias%253Ddigital-music%26field-keywords%3DOutkast&amp;amazon-ids-by-cc=US%3DRankernode31191-20\" itemprop=\"url\" rel=\"nofollow\" role=\"link\">Outkast</a><span class=\"listItem__props block\"> <span class=\"listItem__properties black default\">Alternative hip hop, Dance-pop, Jazz</span> </span> </div>"
      ]
     },
     "execution_count": 50,
     "metadata": {},
     "output_type": "execute_result"
    }
   ],
   "source": [
    "soup.find_all(\"div\",class_=\"listItem__data\")[0]"
   ]
  },
  {
   "cell_type": "code",
   "execution_count": 51,
   "metadata": {},
   "outputs": [
    {
     "data": {
      "text/plain": [
       "'Outkast'"
      ]
     },
     "execution_count": 51,
     "metadata": {},
     "output_type": "execute_result"
    }
   ],
   "source": [
    "soup.find_all(\"div\",class_=\"listItem__data\")[0].meta.get(\"content\")"
   ]
  },
  {
   "cell_type": "code",
   "execution_count": 66,
   "metadata": {},
   "outputs": [],
   "source": [
    "def ranker_scraper(web_url):\n",
    "    soup = BeautifulSoup(requests.get(web_url).content,\"html.parser\")\n",
    "    my_list = []\n",
    "    for each in soup.find_all(\"div\",class_=\"listItem__data\")[:24]:\n",
    "        my_list.append(each.meta.get(\"content\"))\n",
    "    return my_list"
   ]
  },
  {
   "cell_type": "code",
   "execution_count": 39,
   "metadata": {},
   "outputs": [],
   "source": [
    "west_coast_rappers = ranker_scraper(web_url)"
   ]
  },
  {
   "cell_type": "code",
   "execution_count": 40,
   "metadata": {},
   "outputs": [
    {
     "data": {
      "text/plain": [
       "['Tupac Shakur',\n",
       " 'Ice Cube',\n",
       " 'Snoop Dogg',\n",
       " 'Dr. Dre',\n",
       " 'Kendrick Lamar',\n",
       " 'N.W.A',\n",
       " 'Easy E',\n",
       " 'Nate Dogg',\n",
       " 'The Game',\n",
       " 'Warren G',\n",
       " 'Kurupt',\n",
       " 'MC Ren',\n",
       " 'Ice-T',\n",
       " 'Schoolboy Q',\n",
       " 'YG',\n",
       " 'Westside Connection',\n",
       " 'The Dogg Pound',\n",
       " 'Mack 10',\n",
       " 'Mac Dre',\n",
       " 'MC Eiht',\n",
       " 'Tyler, the Creator',\n",
       " 'Ab-Soul',\n",
       " 'Outlawz',\n",
       " 'Jay Rock',\n",
       " 'Vince Staples']"
      ]
     },
     "execution_count": 40,
     "metadata": {},
     "output_type": "execute_result"
    }
   ],
   "source": [
    "west_coast_rappers"
   ]
  },
  {
   "cell_type": "code",
   "execution_count": 41,
   "metadata": {},
   "outputs": [],
   "source": [
    "web_url = \"https://www.ranker.com/list/east-coast-hip-hop-bands-and-musicians/reference\""
   ]
  },
  {
   "cell_type": "code",
   "execution_count": 42,
   "metadata": {},
   "outputs": [],
   "source": [
    "east_coast_rappers = ranker_scraper(web_url)"
   ]
  },
  {
   "cell_type": "code",
   "execution_count": 43,
   "metadata": {},
   "outputs": [
    {
     "data": {
      "text/plain": [
       "['The Notorious B.I.G.',\n",
       " 'Nas',\n",
       " 'Wu-Tang Clan',\n",
       " 'Jay-Z',\n",
       " 'Rakim',\n",
       " 'Method Man',\n",
       " 'DMX',\n",
       " '50 Cent',\n",
       " 'Busta Rhymes',\n",
       " 'Big L',\n",
       " 'Mobb Deep',\n",
       " 'J. Cole',\n",
       " 'A Tribe Called Quest',\n",
       " 'Run–DMC',\n",
       " 'Ghostface Killah',\n",
       " 'Public Enemy',\n",
       " 'KRS-One',\n",
       " \"Ol' Dirty Bastard\",\n",
       " 'Raekwon',\n",
       " 'LL Cool J',\n",
       " 'Redman',\n",
       " 'Mos Def',\n",
       " 'Joey Bada$$',\n",
       " 'Big Pun',\n",
       " 'Gang Starr']"
      ]
     },
     "execution_count": 43,
     "metadata": {},
     "output_type": "execute_result"
    }
   ],
   "source": [
    "east_coast_rappers"
   ]
  },
  {
   "cell_type": "code",
   "execution_count": 46,
   "metadata": {},
   "outputs": [],
   "source": [
    "web_url = \"https://www.ranker.com/list/southern-rap-bands-and-musicians/reference\""
   ]
  },
  {
   "cell_type": "code",
   "execution_count": 67,
   "metadata": {},
   "outputs": [],
   "source": [
    "dirty_souf = ranker_scraper(web_url)"
   ]
  },
  {
   "cell_type": "code",
   "execution_count": 68,
   "metadata": {},
   "outputs": [
    {
     "data": {
      "text/plain": [
       "['Outkast',\n",
       " 'André 3000',\n",
       " 'Scarface',\n",
       " 'Ludacris',\n",
       " 'T.I.',\n",
       " 'J. Cole',\n",
       " 'Mystikal',\n",
       " 'Lil Wayne',\n",
       " 'Bun B',\n",
       " 'Three 6 Mafia',\n",
       " 'Underground Kingz',\n",
       " 'Geto Boys',\n",
       " 'Big Boi',\n",
       " 'Young Jeezy',\n",
       " 'Big K.R.I.T.',\n",
       " 'Juvenile',\n",
       " '2 Chainz',\n",
       " 'Trick Daddy',\n",
       " 'Pimp C',\n",
       " 'Eightball & MJG',\n",
       " 'Killer Mike',\n",
       " 'Project Pat',\n",
       " 'Goodie Mob',\n",
       " 'David Banner']"
      ]
     },
     "execution_count": 68,
     "metadata": {},
     "output_type": "execute_result"
    }
   ],
   "source": [
    "dirty_souf"
   ]
  },
  {
   "cell_type": "code",
   "execution_count": 69,
   "metadata": {},
   "outputs": [],
   "source": [
    "web_url=\"https://www.ranker.com/crowdranked-list/the-greatest-rappers-of-all-time?ref=collections&l=101247&collectionId=88&li_source=LI&li_medium=desktop-top-collection\"\n",
    "GOATs = ranker_scraper(web_url)"
   ]
  },
  {
   "cell_type": "code",
   "execution_count": 70,
   "metadata": {},
   "outputs": [
    {
     "data": {
      "text/plain": [
       "['Eminem',\n",
       " 'The Notorious B.I.G.',\n",
       " 'Tupac',\n",
       " 'Kendrick Lamar',\n",
       " 'Nas',\n",
       " 'Dr. Dre',\n",
       " 'Snoop Dogg',\n",
       " 'Ice Cube',\n",
       " 'Jay-Z',\n",
       " 'Kanye West',\n",
       " '50 Cent',\n",
       " 'J. Cole',\n",
       " 'André 3000',\n",
       " 'Eazy-E',\n",
       " 'Rakim',\n",
       " 'Lil Wayne',\n",
       " 'DMX',\n",
       " 'Busta Rhymes',\n",
       " 'Method Man',\n",
       " 'Mos Def',\n",
       " 'LL Cool J',\n",
       " 'Drake',\n",
       " 'Nate Dogg',\n",
       " 'Ghostface Killah']"
      ]
     },
     "execution_count": 70,
     "metadata": {},
     "output_type": "execute_result"
    }
   ],
   "source": [
    "GOATs"
   ]
  },
  {
   "cell_type": "code",
   "execution_count": 71,
   "metadata": {},
   "outputs": [],
   "source": [
    "web_url = \"https://www.ranker.com/list/best-rap-songs-2019/ranker-music?ref=collections&l=101523&collectionId=88&li_source=LI&li_medium=desktop-top-collection\"\n",
    "top2019rap = ranker_scraper(web_url)\n"
   ]
  },
  {
   "cell_type": "code",
   "execution_count": 72,
   "metadata": {},
   "outputs": [
    {
     "data": {
      "text/plain": [
       "['Middle Child',\n",
       " 'a lot',\n",
       " 'Suge',\n",
       " 'Ransom',\n",
       " 'Homocide',\n",
       " 'Murder On My Mind',\n",
       " 'Pop Out',\n",
       " 'ISIS (ADHD)',\n",
       " 'Money in the grave',\n",
       " 'Mixed Personalities',\n",
       " 'Pure Water',\n",
       " 'Goin Baby',\n",
       " 'The London',\n",
       " 'Rainy Days',\n",
       " 'Envy Me',\n",
       " 'Sauce!',\n",
       " 'Old Town Road',\n",
       " 'Shotta Flow Remix',\n",
       " 'Keanu Reeves',\n",
       " \"That's A Rack\",\n",
       " 'Baby',\n",
       " 'Stop Snitchin',\n",
       " 'Red Room',\n",
       " 'Bleed It']"
      ]
     },
     "execution_count": 72,
     "metadata": {},
     "output_type": "execute_result"
    }
   ],
   "source": [
    "top2019rap"
   ]
  },
  {
   "cell_type": "code",
   "execution_count": 73,
   "metadata": {},
   "outputs": [],
   "source": [
    "location_based_rappers_url = [\n",
    "\"https://www.ranker.com/list/best-ohio-rappers/ranker-hip-hop?ref=search\",\n",
    "\"https://www.ranker.com/list/best-brooklyn-rappers/ranker-hip-hop?ref=search\",\n",
    "\"https://www.ranker.com/list/best-oregon-rappers/ranker-hip-hop?ref=search\",\n",
    "\"https://www.ranker.com/list/best-pittsburgh-rappers/ranker-hip-hop?ref=search\",\n",
    "\"https://www.ranker.com/list/best-alabama-rappers/ranker-hip-hop?ref=search\",\n",
    "\"https://www.ranker.com/list/best-harlem-rappers/ranker-hip-hop?ref=search\",\n",
    "\"https://www.ranker.com/list/best-harlem-rappers/ranker-hip-hop?ref=search\",\n",
    "\"https://www.ranker.com/list/best-virginia-rappers/ranker-hip-hop?ref=search\",\n",
    "\"https://www.ranker.com/list/best-maryland-rappers/ranker-hip-hop?ref=search\",\n",
    "\"https://www.ranker.com/list/best-queens-rappers/ranker-hip-hop?ref=search\",\n",
    "\"https://www.ranker.com/list/best-tennessee-rappers/ranker-hip-hop?ref=search\",\n",
    "\"https://www.ranker.com/list/best-texas-rappers/ranker-hip-hop?ref=search\",\n",
    "\"https://www.ranker.com/list/best-atlanta-rappers/ranker-hip-hop?ref=search\",\n",
    "\"https://www.ranker.com/list/best-philadelphia-rappers/ranker-hip-hop?ref=search\",\n",
    "\"https://www.ranker.com/list/best-north-carolina-rappers/ranker-hip-hop?ref=search\",\n",
    "\"https://www.ranker.com/list/best-florida-rappers/ranker-hip-hop?ref=search\",\n",
    "\"https://www.ranker.com/list/best-staten-island-rappers/ranker-hip-hop?ref=search\",\n",
    "\"https://www.ranker.com/list/best-bronx-rappers/ranker-hip-hop?ref=search\",\n",
    "\"https://www.ranker.com/list/best-rappers-from-compton/ranker-hip-hop?ref=search\",\n",
    "\"https://www.ranker.com/list/best-long-beach-rappers/ranker-hip-hop?ref=search\",\n",
    "\"https://www.ranker.com/list/best-new-jersey-rappers/ranker-hip-hop?ref=search\",\n",
    "\"https://www.ranker.com/list/best-los-angeles-rappers/ranker-hip-hop?ref=search\",\n",
    "\"https://www.ranker.com/list/best-long-island-rappers/ranker-hip-hop?ref=search\",\n",
    "\"https://www.ranker.com/list/best-bay-area-rappers/ranker-hip-hop?ref=search\",\n",
    "\"https://www.ranker.com/list/detroit-hip-hop-bands-and-artists/reference?ref=search\",\n",
    "\"https://www.ranker.com/list/new-orleans-hip-hop-bands-and-artists/reference?ref=search\",\n",
    "\"https://www.ranker.com/list/best-houston-rappers/ranker-hip-hop?ref=search\",\n",
    "\"https://www.ranker.com/list/best-memphis-rappers/ranker-hip-hop?ref=search\",\n",
    "\"https://www.ranker.com/list/the-best-chicago-rappers/ranker-hip-hop?ref=search\",\n",
    "\"https://www.ranker.com/list/best-miami-rappers/ranker-hip-hop?ref=search\"]\n",
    "    "
   ]
  },
  {
   "cell_type": "code",
   "execution_count": 74,
   "metadata": {},
   "outputs": [
    {
     "data": {
      "text/plain": [
       "30"
      ]
     },
     "execution_count": 74,
     "metadata": {},
     "output_type": "execute_result"
    }
   ],
   "source": [
    "len(location_based_rappers_url)"
   ]
  },
  {
   "cell_type": "code",
   "execution_count": 75,
   "metadata": {},
   "outputs": [],
   "source": [
    "import json"
   ]
  },
  {
   "cell_type": "code",
   "execution_count": 76,
   "metadata": {},
   "outputs": [],
   "source": [
    "my_dict = {}"
   ]
  },
  {
   "cell_type": "code",
   "execution_count": 77,
   "metadata": {},
   "outputs": [],
   "source": [
    "my_dict[\"category\"] = []"
   ]
  },
  {
   "cell_type": "code",
   "execution_count": 85,
   "metadata": {},
   "outputs": [
    {
     "data": {
      "text/plain": [
       "{'category': [{'West Coast': ['Tupac Shakur',\n",
       "    'Ice Cube',\n",
       "    'Snoop Dogg',\n",
       "    'Dr. Dre',\n",
       "    'Kendrick Lamar',\n",
       "    'N.W.A',\n",
       "    'Easy E',\n",
       "    'Nate Dogg',\n",
       "    'The Game',\n",
       "    'Warren G',\n",
       "    'Kurupt',\n",
       "    'MC Ren',\n",
       "    'Ice-T',\n",
       "    'Schoolboy Q',\n",
       "    'YG',\n",
       "    'Westside Connection',\n",
       "    'The Dogg Pound',\n",
       "    'Mack 10',\n",
       "    'Mac Dre',\n",
       "    'MC Eiht',\n",
       "    'Tyler, the Creator',\n",
       "    'Ab-Soul',\n",
       "    'Outlawz',\n",
       "    'Jay Rock',\n",
       "    'Vince Staples']},\n",
       "  {'East Coast': ['The Notorious B.I.G.',\n",
       "    'Nas',\n",
       "    'Wu-Tang Clan',\n",
       "    'Jay-Z',\n",
       "    'Rakim',\n",
       "    'Method Man',\n",
       "    'DMX',\n",
       "    '50 Cent',\n",
       "    'Busta Rhymes',\n",
       "    'Big L',\n",
       "    'Mobb Deep',\n",
       "    'J. Cole',\n",
       "    'A Tribe Called Quest',\n",
       "    'Run–DMC',\n",
       "    'Ghostface Killah',\n",
       "    'Public Enemy',\n",
       "    'KRS-One',\n",
       "    \"Ol' Dirty Bastard\",\n",
       "    'Raekwon',\n",
       "    'LL Cool J',\n",
       "    'Redman',\n",
       "    'Mos Def',\n",
       "    'Joey Bada$$',\n",
       "    'Big Pun',\n",
       "    'Gang Starr']},\n",
       "  {'Dirty South': ['Outkast',\n",
       "    'André 3000',\n",
       "    'Scarface',\n",
       "    'Ludacris',\n",
       "    'T.I.',\n",
       "    'J. Cole',\n",
       "    'Mystikal',\n",
       "    'Lil Wayne',\n",
       "    'Bun B',\n",
       "    'Three 6 Mafia',\n",
       "    'Underground Kingz',\n",
       "    'Geto Boys',\n",
       "    'Big Boi',\n",
       "    'Young Jeezy',\n",
       "    'Big K.R.I.T.',\n",
       "    'Juvenile',\n",
       "    '2 Chainz',\n",
       "    'Trick Daddy',\n",
       "    'Pimp C',\n",
       "    'Eightball & MJG',\n",
       "    'Killer Mike',\n",
       "    'Project Pat',\n",
       "    'Goodie Mob',\n",
       "    'David Banner']},\n",
       "  {'GOAT': ['Eminem',\n",
       "    'The Notorious B.I.G.',\n",
       "    'Tupac',\n",
       "    'Kendrick Lamar',\n",
       "    'Nas',\n",
       "    'Dr. Dre',\n",
       "    'Snoop Dogg',\n",
       "    'Ice Cube',\n",
       "    'Jay-Z',\n",
       "    'Kanye West',\n",
       "    '50 Cent',\n",
       "    'J. Cole',\n",
       "    'André 3000',\n",
       "    'Eazy-E',\n",
       "    'Rakim',\n",
       "    'Lil Wayne',\n",
       "    'DMX',\n",
       "    'Busta Rhymes',\n",
       "    'Method Man',\n",
       "    'Mos Def',\n",
       "    'LL Cool J',\n",
       "    'Drake',\n",
       "    'Nate Dogg',\n",
       "    'Ghostface Killah']}]}"
      ]
     },
     "execution_count": 85,
     "metadata": {},
     "output_type": "execute_result"
    }
   ],
   "source": [
    "my_dict"
   ]
  },
  {
   "cell_type": "code",
   "execution_count": 86,
   "metadata": {},
   "outputs": [],
   "source": [
    "with open('WestEastSouthGOAT.txt', 'w') as outfile:\n",
    "    json.dump(my_dict, outfile)"
   ]
  },
  {
   "cell_type": "code",
   "execution_count": 87,
   "metadata": {},
   "outputs": [],
   "source": [
    "web_url = \"https://www.ranker.com/list/midwest-hip-hop-bands-and-artists/reference?ref=search\"\n",
    "mid_west = top2019rap = ranker_scraper(web_url)\n"
   ]
  },
  {
   "cell_type": "code",
   "execution_count": 88,
   "metadata": {},
   "outputs": [
    {
     "data": {
      "text/plain": [
       "['Eminem',\n",
       " 'Proof',\n",
       " 'Big Sean',\n",
       " \"Royce da 5'9\",\n",
       " 'D12',\n",
       " 'Bad Meets Evil',\n",
       " 'Feloni',\n",
       " 'Tech N9ne',\n",
       " 'Kanye West',\n",
       " 'Obie Trice',\n",
       " 'Danny Brown',\n",
       " 'Bone Thugs-N-Harmony',\n",
       " 'Chance The Rapper',\n",
       " 'Twista',\n",
       " 'Lupe Fiasco',\n",
       " 'Bizarre',\n",
       " 'Trick-Trick',\n",
       " 'MC Swift',\n",
       " 'MC Bugz',\n",
       " 'Kuniva',\n",
       " 'Kon Artist',\n",
       " 'Kid Cudi',\n",
       " 'Da Brat',\n",
       " 'Common']"
      ]
     },
     "execution_count": 88,
     "metadata": {},
     "output_type": "execute_result"
    }
   ],
   "source": [
    "mid_west"
   ]
  },
  {
   "cell_type": "code",
   "execution_count": null,
   "metadata": {},
   "outputs": [],
   "source": []
  }
 ],
 "metadata": {
  "kernelspec": {
   "display_name": "Python 3",
   "language": "python",
   "name": "python3"
  },
  "language_info": {
   "codemirror_mode": {
    "name": "ipython",
    "version": 3
   },
   "file_extension": ".py",
   "mimetype": "text/x-python",
   "name": "python",
   "nbconvert_exporter": "python",
   "pygments_lexer": "ipython3",
   "version": "3.7.3"
  }
 },
 "nbformat": 4,
 "nbformat_minor": 2
}
