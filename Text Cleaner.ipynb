{
 "cells": [
  {
   "cell_type": "code",
   "execution_count": 1,
   "metadata": {},
   "outputs": [],
   "source": [
    "def remove_html_tags(text):\n",
    "    \"\"\"Remove html tags from a string\"\"\"\n",
    "    import re\n",
    "    clean = re.compile('<.*?>')\n",
    "    return re.sub(clean, '', text)"
   ]
  },
  {
   "cell_type": "code",
   "execution_count": 6,
   "metadata": {},
   "outputs": [],
   "source": [
    "import nltk\n",
    "from nltk.corpus import stopwords\n",
    "a = stopwords.words('english')"
   ]
  },
  {
   "cell_type": "code",
   "execution_count": 8,
   "metadata": {},
   "outputs": [],
   "source": [
    "test = \"\\n      <i>\\n       [Eminem:]\\n      </i>\\n      <br/>\\n      In my mind I'mma fighter, my heart's a lighter\\n      <br/>\\n      My soul is the fluid, my flow sparks it right up\\n      <br/>\\n      Arsenic writer, author with arthritis\\n      <br/>\\n      Carpel tunnel, Marshall will start shit-itis\\n      <br/>\\n      Hard headed and hot headed, bull headed and pig headed\\n      <br/>\\n      Dick headed, a prick, a big headache I'm sick\\n      <br/>\\n      Quick witted, for every lyric spitted there are 6 critics\\n      <br/>\\n      Who wait for me to slip with it, so quick\\n      <br/>\\n      This dynamite stick buried the wick, it's gonna explode any minute\\n      <br/>\\n      Some lunatic lit it and it's not Nelly\\n      <br/>\\n      Do not tell me to stop yelling, when I stop selling I quit\\n      <br/>\\n      So stop dwelling an I am not felling\\n      <br/>\\n      You fuckers are not ready, cause I got jelly, like Beyonce's pot belly\\n      <br/>\\n      This is Destiny, yes money I'm of running\\n      <br/>\\n      So get off of me, I'm not slowing or softening\\n      <br/>\\n      <br/>\\n      <i>\\n       [2Pac:]\\n      </i>\\n      <br/>\\n      They sending armies out to bomb me, constantly armed\\n      <br/>\\n      The only DJ that can calm me is constantly armed\\n      <br/>\\n      My firepower keep me warm I'm constantly armed\\n      <br/>\\n      And fuck the world 'til I'm gone, constantly armed\\n      <br/>\\n      They sending armies out to bomb me, constantly armed\\n      <br/>\\n      The only DJ that can calm me is constantly armed\\n      <br/>\\n      My firepower keep me warm I'm constantly armed\\n      <br/>\\n      And fuck the world 'til I'm gone bitches be warned\\n      <br/>\\n      <br/>\\n      <i>\\n       [Eminem:]\\n      </i>\\n      <br/>\\n      I will not fall\\n      <br/>\\n      I will stand tall\\n      <br/>\\n      Feels like no one can beat me\\n      <br/>\\n      <i>\\n       [2x]\\n      </i>\\n      <br/>\\n      <br/>\\n      <i>\\n       [2Pac:]\\n      </i>\\n      <br/>\\n      Follow me tell me if you feel me\\n      <br/>\\n      I think niggas is trying to kill me\\n      <br/>\\n      Picturing pistols, spitting hollow points 'til they drill me\\n      <br/>\\n      Keeping it real, and even if I do conceal\\n      <br/>\\n      My criminal thoughts, preoccupied with keeping steel\\n      <br/>\\n      See niggas is false, sitting in court, turned snitches\\n      <br/>\\n      That used to be real, but now they petrified bitches\\n      <br/>\\n      I'm trying to be strong, my firepower keep me warm\\n      <br/>\\n      I'm trapped in the storm, and fuck the world 'til I'm gone, bitches be warned\\n      <br/>\\n      Word is bonb, you'll get torn\\n      <br/>\\n      I'm busting on Guiliani, he rubbing my niggas wrong\\n      <br/>\\n      And then it's on, before I leave picture me\\n      <br/>\\n      I'm spitting at punk bitches and hustling to be free\\n      <br/>\\n      Watch me set it, niggas don't want it, you can get it\\n      <br/>\\n      Bet it make these jealous niggas mad I said it\\n      <br/>\\n      This Thug Life nigga, we don't cater to you hoes\\n      <br/>\\n      Fuck with me, have a hundred motherfuckers at yo' do', with fo\\n      <br/>\\n      <br/>\\n      <i>\\n       [2Pac:]\\n      </i>\\n      <br/>\\n      They sending armies out to bomb me, constantly armed\\n      <br/>\\n      The only DJ that can calm me is constantly armed\\n      <br/>\\n      My firepower keep me warm I'm constantly armed\\n      <br/>\\n      And fuck the world 'til I'm gone, constantly armed\\n      <br/>\\n      They sending armies out to bomb me, constantly armed\\n      <br/>\\n      The only DJ that can calm me is constantly armed\\n      <br/>\\n      My firepower keep me warm I'm constantly armed\\n      <br/>\\n      And fuck the world 'til I'm gone bitches be warned\\n     </div>\\n     <br/>\\n     <br/>\\n   \""
   ]
  },
  {
   "cell_type": "code",
   "execution_count": 14,
   "metadata": {},
   "outputs": [
    {
     "data": {
      "text/plain": [
       "3741"
      ]
     },
     "execution_count": 14,
     "metadata": {},
     "output_type": "execute_result"
    }
   ],
   "source": [
    "len(test)"
   ]
  },
  {
   "cell_type": "code",
   "execution_count": 11,
   "metadata": {},
   "outputs": [],
   "source": [
    "html_rem = remove_html_tags(test)"
   ]
  },
  {
   "cell_type": "code",
   "execution_count": 21,
   "metadata": {},
   "outputs": [
    {
     "name": "stdout",
     "output_type": "stream",
     "text": [
      "3383\n"
     ]
    },
    {
     "data": {
      "text/plain": [
       "\"\\n      \\n       [Eminem:]\\n      \\n      \\n      In my mind I'mma fighter, my heart's a lighter\\n      \\n      My soul is the fluid, my flow sparks it right up\\n      \\n      Arsenic writer, author with arthritis\\n      \\n      Carpel tunnel, Marshall will start shit-itis\\n      \\n      Hard headed and hot headed, bull headed and pig headed\\n      \\n      Dick headed, a prick, a big headache I'm sick\\n      \\n      Quick witted, for every lyric spitted there are 6 critics\\n      \\n      Who wait for me to slip with it, so quick\\n      \\n      This dynamite stick buried the wick, it's gonna explode any minute\\n      \\n      Some lunatic lit it and it's not Nelly\\n      \\n      Do not tell me to stop yelling, when I stop selling I quit\\n      \\n      So stop dwelling an I am not felling\\n      \\n      You fuckers are not ready, cause I got jelly, like Beyonce's pot belly\\n      \\n      This is Destiny, yes money I'm of running\\n      \\n      So get off of me, I'm not slowing or softening\\n      \\n      \\n      \\n       [2Pac:]\\n      \\n      \\n      They sending armies out to bomb me, constantly armed\\n      \\n      The only DJ that can calm me is constantly armed\\n      \\n      My firepower keep me warm I'm constantly armed\\n      \\n      And fuck the world 'til I'm gone, constantly armed\\n      \\n      They sending armies out to bomb me, constantly armed\\n      \\n      The only DJ that can calm me is constantly armed\\n      \\n      My firepower keep me warm I'm constantly armed\\n      \\n      And fuck the world 'til I'm gone bitches be warned\\n      \\n      \\n      \\n       [Eminem:]\\n      \\n      \\n      I will not fall\\n      \\n      I will stand tall\\n      \\n      Feels like no one can beat me\\n      \\n      \\n       [2x]\\n      \\n      \\n      \\n      \\n       [2Pac:]\\n      \\n      \\n      Follow me tell me if you feel me\\n      \\n      I think niggas is trying to kill me\\n      \\n      Picturing pistols, spitting hollow points 'til they drill me\\n      \\n      Keeping it real, and even if I do conceal\\n      \\n      My criminal thoughts, preoccupied with keeping steel\\n      \\n      See niggas is false, sitting in court, turned snitches\\n      \\n      That used to be real, but now they petrified bitches\\n      \\n      I'm trying to be strong, my firepower keep me warm\\n      \\n      I'm trapped in the storm, and fuck the world 'til I'm gone, bitches be warned\\n      \\n      Word is bonb, you'll get torn\\n      \\n      I'm busting on Guiliani, he rubbing my niggas wrong\\n      \\n      And then it's on, before I leave picture me\\n      \\n      I'm spitting at punk bitches and hustling to be free\\n      \\n      Watch me set it, niggas don't want it, you can get it\\n      \\n      Bet it make these jealous niggas mad I said it\\n      \\n      This Thug Life nigga, we don't cater to you hoes\\n      \\n      Fuck with me, have a hundred motherfuckers at yo' do', with fo\\n      \\n      \\n      \\n       [2Pac:]\\n      \\n      \\n      They sending armies out to bomb me, constantly armed\\n      \\n      The only DJ that can calm me is constantly armed\\n      \\n      My firepower keep me warm I'm constantly armed\\n      \\n      And fuck the world 'til I'm gone, constantly armed\\n      \\n      They sending armies out to bomb me, constantly armed\\n      \\n      The only DJ that can calm me is constantly armed\\n      \\n      My firepower keep me warm I'm constantly armed\\n      \\n      And fuck the world 'til I'm gone bitches be warned\\n     \\n     \\n     \\n   \""
      ]
     },
     "execution_count": 21,
     "metadata": {},
     "output_type": "execute_result"
    }
   ],
   "source": [
    "print(len(html_rem))\n",
    "html_rem"
   ]
  },
  {
   "cell_type": "code",
   "execution_count": 22,
   "metadata": {},
   "outputs": [],
   "source": [
    "#removing too much - needs to be in unique words list already or else will take within words\n",
    "def remove_stopwords(text):\n",
    "    \"\"\"Remove stop words from a string\"\"\"\n",
    "    for each in a:\n",
    "        text = text.replace(each,\"\")\n",
    "    return text"
   ]
  },
  {
   "cell_type": "code",
   "execution_count": 18,
   "metadata": {},
   "outputs": [],
   "source": [
    "no_stop = remove_stopwords(html_rem)"
   ]
  },
  {
   "cell_type": "code",
   "execution_count": 19,
   "metadata": {},
   "outputs": [
    {
     "name": "stdout",
     "output_type": "stream",
     "text": [
      "2170\n"
     ]
    }
   ],
   "source": [
    "print(len(no_stop))"
   ]
  },
  {
   "cell_type": "code",
   "execution_count": 20,
   "metadata": {},
   "outputs": [
    {
     "data": {
      "text/plain": [
       "\"\\n      \\n       [Ene:]\\n      \\n      \\n      In  n I' fgher,  r'  lgher\\n      \\n      M ul   flu,  flw prk  rgh \\n      \\n      Anc wr, uh wh rhr\\n      \\n      Crpel unnel, Mrh w r h-\\n      \\n      Hr e n h e, bu e n pg e\\n      \\n      Dck e,  prck,  bg c I' ck\\n      \\n      Quck we, f e lrc pe   6 crc\\n      \\n      Wh w f   lp wh ,  quck\\n      \\n      Th ne ck bu  wck, ' gn exple n nue\\n      \\n      S lunc l  n '  Ne\\n      \\n      D  e   p eng, wn I p eng I qu\\n      \\n      S p ng n I   feng\\n      \\n      Yu fucker   , cue I g je, lke Bece' p \\n      \\n      Th  Den, e e I'  runnng\\n      \\n      S ge f  , I'  lg  enng\\n      \\n      \\n      \\n       [2Pc:]\\n      \\n      \\n      T enng r   bb , cnl r\\n      \\n      T l DJ  cn cl   cnl r\\n      \\n      M fp keep  wr I' cnl r\\n      \\n      An fuck  wl 'l I' ge, cnl r\\n      \\n      T enng r   bb , cnl r\\n      \\n      T l DJ  cn cl   cnl r\\n      \\n      M fp keep  wr I' cnl r\\n      \\n      An fuck  wl 'l I' ge bc  wrne\\n      \\n      \\n      \\n       [Ene:]\\n      \\n      \\n      I w  f\\n      \\n      I w n \\n      \\n      Feel lke  e cn  \\n      \\n      \\n       [2x]\\n      \\n      \\n      \\n      \\n       [2Pc:]\\n      \\n      \\n      Fw  e  f  feel \\n      \\n      I hnk ngg  rng  k \\n      \\n      Pcurng pl, png hw p 'l  r \\n      \\n      Keepng  l, n en f I  ccel\\n      \\n      M crnl hugh, pcce wh keepng eel\\n      \\n      See ngg  fle, ng n c, urne nc\\n      \\n      Th ue   l,  w  perfe bc\\n      \\n      I' rng   rg,  fp keep  wr\\n      \\n      I' rppe n  , n fuck  wl 'l I' ge, bc  wrne\\n      \\n      W  bb, ' ge n\\n      \\n      I' bung  Guln,  rubbng  ngg wrg\\n      \\n      An n ' , fe I le pcu \\n      \\n      I' png  punk bc n hulng   fe\\n      \\n      Wch  e , ngg n' wn ,  cn ge \\n      \\n      Be  ke e jelu ngg  I  \\n      \\n      Th Thug Lfe ngg,  n' cer   he\\n      \\n      Fuck wh ,   hun rfucker  ' ', wh f\\n      \\n      \\n      \\n       [2Pc:]\\n      \\n      \\n      T enng r   bb , cnl r\\n      \\n      T l DJ  cn cl   cnl r\\n      \\n      M fp keep  wr I' cnl r\\n      \\n      An fuck  wl 'l I' ge, cnl r\\n      \\n      T enng r   bb , cnl r\\n      \\n      T l DJ  cn cl   cnl r\\n      \\n      M fp keep  wr I' cnl r\\n      \\n      An fuck  wl 'l I' ge bc  wrne\\n     \\n     \\n     \\n   \""
      ]
     },
     "execution_count": 20,
     "metadata": {},
     "output_type": "execute_result"
    }
   ],
   "source": [
    "no_stop"
   ]
  },
  {
   "cell_type": "code",
   "execution_count": null,
   "metadata": {},
   "outputs": [],
   "source": []
  }
 ],
 "metadata": {
  "kernelspec": {
   "display_name": "Python 3",
   "language": "python",
   "name": "python3"
  },
  "language_info": {
   "codemirror_mode": {
    "name": "ipython",
    "version": 3
   },
   "file_extension": ".py",
   "mimetype": "text/x-python",
   "name": "python",
   "nbconvert_exporter": "python",
   "pygments_lexer": "ipython3",
   "version": "3.7.3"
  }
 },
 "nbformat": 4,
 "nbformat_minor": 2
}
