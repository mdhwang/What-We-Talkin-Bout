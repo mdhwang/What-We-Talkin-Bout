{
 "cells": [
  {
   "cell_type": "code",
   "execution_count": 10,
   "metadata": {},
   "outputs": [],
   "source": [
    "import json"
   ]
  },
  {
   "cell_type": "code",
   "execution_count": 11,
   "metadata": {},
   "outputs": [],
   "source": [
    "import nltk\n",
    "from nltk.corpus import stopwords\n",
    "staph = stopwords.words('english')\n",
    "staph.append(\"like\")\n",
    "staph.append(\"got\")\n",
    "staph.append(\"get\")\n",
    "staph.append(\"know\")\n",
    "staph.append(\"aint\")\n",
    "staph.append(\"dont\")\n",
    "staph.append(\"go\")"
   ]
  },
  {
   "cell_type": "code",
   "execution_count": 356,
   "metadata": {},
   "outputs": [],
   "source": [
    "path = \"/Users/matthewhwang/Galvanize/Capstone1/Data/Discographies/_Mastered_Cleaned/Lil Wayne_Master_Discography_Cleaned.txt\""
   ]
  },
  {
   "cell_type": "code",
   "execution_count": 357,
   "metadata": {},
   "outputs": [],
   "source": [
    "with open(path, 'r') as f:\n",
    "    contents = json.load(f)[\"Discography\"]\n",
    "    all_words = []\n",
    "    for each in contents:\n",
    "        for words in each[\"lyrics\"].split():\n",
    "            all_words.append(words.lower())\n",
    "    "
   ]
  },
  {
   "cell_type": "code",
   "execution_count": 14,
   "metadata": {},
   "outputs": [
    {
     "data": {
      "text/plain": [
       "232709"
      ]
     },
     "execution_count": 14,
     "metadata": {},
     "output_type": "execute_result"
    }
   ],
   "source": [
    "len(all_words)"
   ]
  },
  {
   "cell_type": "code",
   "execution_count": 15,
   "metadata": {},
   "outputs": [],
   "source": [
    "reduced = [word for word in all_words if word not in staph]"
   ]
  },
  {
   "cell_type": "code",
   "execution_count": 16,
   "metadata": {},
   "outputs": [
    {
     "data": {
      "text/plain": [
       "120491"
      ]
     },
     "execution_count": 16,
     "metadata": {},
     "output_type": "execute_result"
    }
   ],
   "source": [
    "len(reduced)"
   ]
  },
  {
   "cell_type": "code",
   "execution_count": 282,
   "metadata": {},
   "outputs": [],
   "source": [
    "import pandas as pd\n",
    "df = pd.DataFrame(reduced)\n",
    "df.columns = [\"Word\"]\n",
    "df['Count'] = 1\n",
    "g = df.groupby(\"Word\")\n",
    "new = g.count().sort_values(\"Count\",ascending=False)"
   ]
  },
  {
   "cell_type": "code",
   "execution_count": 192,
   "metadata": {},
   "outputs": [],
   "source": [
    "new.to_csv(r'/Users/matthewhwang/Galvanize/Capstone1/Data/Processed/Snoop Dogg_TopWords.csv')"
   ]
  },
  {
   "cell_type": "code",
   "execution_count": 358,
   "metadata": {},
   "outputs": [],
   "source": [
    "hello = pd.DataFrame(contents)"
   ]
  },
  {
   "cell_type": "code",
   "execution_count": 359,
   "metadata": {},
   "outputs": [],
   "source": [
    "hello[\"words per track\"] = hello[\"lyrics\"].apply(lambda x: len(x.split()))"
   ]
  },
  {
   "cell_type": "code",
   "execution_count": 360,
   "metadata": {},
   "outputs": [],
   "source": [
    "hello[\"avg length of word\"] = hello[\"lyrics\"].apply(lambda x: len(x.strip())) / hello[\"words per track\"] "
   ]
  },
  {
   "cell_type": "code",
   "execution_count": 361,
   "metadata": {},
   "outputs": [],
   "source": [
    "hello[\"im\"] = hello[\"lyrics\"].apply(lambda x: x.count(\"im\"))"
   ]
  },
  {
   "cell_type": "code",
   "execution_count": 362,
   "metadata": {},
   "outputs": [],
   "source": [
    "hello[\"im_ratio\"] = hello['im'] / hello['words per track']"
   ]
  },
  {
   "cell_type": "code",
   "execution_count": 363,
   "metadata": {},
   "outputs": [
    {
     "data": {
      "text/plain": [
       "0.006530279897235656"
      ]
     },
     "execution_count": 363,
     "metadata": {},
     "output_type": "execute_result"
    }
   ],
   "source": [
    "hello[\"im_ratio\"].mean()"
   ]
  },
  {
   "cell_type": "code",
   "execution_count": 364,
   "metadata": {},
   "outputs": [
    {
     "data": {
      "text/plain": [
       "<matplotlib.axes._subplots.AxesSubplot at 0x1a21b32fd0>"
      ]
     },
     "execution_count": 364,
     "metadata": {},
     "output_type": "execute_result"
    },
    {
     "data": {
      "image/png": "[encoded data removed]",
      "text/plain": [
       "<Figure size 432x288 with 1 Axes>"
      ]
     },
     "metadata": {
      "needs_background": "light"
     },
     "output_type": "display_data"
    }
   ],
   "source": [
    "hello['im_ratio'].plot.hist(bins=100)"
   ]
  },
  {
   "cell_type": "code",
   "execution_count": 365,
   "metadata": {},
   "outputs": [
    {
     "data": {
      "text/html": [
       "<div>\n",
       "<style scoped>\n",
       "    .dataframe tbody tr th:only-of-type {\n",
       "        vertical-align: middle;\n",
       "    }\n",
       "\n",
       "    .dataframe tbody tr th {\n",
       "        vertical-align: top;\n",
       "    }\n",
       "\n",
       "    .dataframe thead th {\n",
       "        text-align: right;\n",
       "    }\n",
       "</style>\n",
       "<table border=\"1\" class=\"dataframe\">\n",
       "  <thead>\n",
       "    <tr style=\"text-align: right;\">\n",
       "      <th></th>\n",
       "      <th>artist</th>\n",
       "      <th>lyrics</th>\n",
       "      <th>track</th>\n",
       "      <th>words per track</th>\n",
       "      <th>avg length of word</th>\n",
       "      <th>im</th>\n",
       "      <th>im_ratio</th>\n",
       "    </tr>\n",
       "  </thead>\n",
       "  <tbody>\n",
       "    <tr>\n",
       "      <th>0</th>\n",
       "      <td>lilwayne</td>\n",
       "      <td>Niggas be hatin...</td>\n",
       "      <td>highbeamin</td>\n",
       "      <td>466</td>\n",
       "      <td>6.969957</td>\n",
       "      <td>5</td>\n",
       "      <td>0.010730</td>\n",
       "    </tr>\n",
       "    <tr>\n",
       "      <th>1</th>\n",
       "      <td>lilwayne</td>\n",
       "      <td>where my niggaz...</td>\n",
       "      <td>comeon</td>\n",
       "      <td>589</td>\n",
       "      <td>6.020374</td>\n",
       "      <td>18</td>\n",
       "      <td>0.030560</td>\n",
       "    </tr>\n",
       "    <tr>\n",
       "      <th>2</th>\n",
       "      <td>lilwayne</td>\n",
       "      <td>Drop drop drop ...</td>\n",
       "      <td>dropitlikeitshot</td>\n",
       "      <td>1188</td>\n",
       "      <td>5.864478</td>\n",
       "      <td>8</td>\n",
       "      <td>0.006734</td>\n",
       "    </tr>\n",
       "    <tr>\n",
       "      <th>3</th>\n",
       "      <td>lilwayne</td>\n",
       "      <td>Ah hmmm hmmmm  ...</td>\n",
       "      <td>enemyturf</td>\n",
       "      <td>557</td>\n",
       "      <td>7.107720</td>\n",
       "      <td>14</td>\n",
       "      <td>0.025135</td>\n",
       "    </tr>\n",
       "    <tr>\n",
       "      <th>4</th>\n",
       "      <td>lilwayne</td>\n",
       "      <td>Look look look                  A young ...</td>\n",
       "      <td>fucktheworld</td>\n",
       "      <td>556</td>\n",
       "      <td>6.057554</td>\n",
       "      <td>2</td>\n",
       "      <td>0.003597</td>\n",
       "    </tr>\n",
       "  </tbody>\n",
       "</table>\n",
       "</div>"
      ],
      "text/plain": [
       "     artist                                             lyrics  \\\n",
       "0  lilwayne                                 Niggas be hatin...   \n",
       "1  lilwayne                                 where my niggaz...   \n",
       "2  lilwayne                                 Drop drop drop ...   \n",
       "3  lilwayne                                 Ah hmmm hmmmm  ...   \n",
       "4  lilwayne        Look look look                  A young ...   \n",
       "\n",
       "              track  words per track  avg length of word  im  im_ratio  \n",
       "0        highbeamin              466            6.969957   5  0.010730  \n",
       "1            comeon              589            6.020374  18  0.030560  \n",
       "2  dropitlikeitshot             1188            5.864478   8  0.006734  \n",
       "3         enemyturf              557            7.107720  14  0.025135  \n",
       "4      fucktheworld              556            6.057554   2  0.003597  "
      ]
     },
     "execution_count": 365,
     "metadata": {},
     "output_type": "execute_result"
    }
   ],
   "source": [
    "hello.head()"
   ]
  },
  {
   "cell_type": "code",
   "execution_count": 366,
   "metadata": {},
   "outputs": [],
   "source": [
    "\n",
    "for each in hello['im_ratio'].to_list():\n",
    "    DS_im_vals.append(each)\n"
   ]
  },
  {
   "cell_type": "code",
   "execution_count": 394,
   "metadata": {},
   "outputs": [
    {
     "data": {
      "text/plain": [
       "0.006252517021906888"
      ]
     },
     "execution_count": 394,
     "metadata": {},
     "output_type": "execute_result"
    }
   ],
   "source": [
    "import statistics\n",
    "test = [x for x in MW_im_vals if str(x) != 'nan']\n",
    "statistics.mean(DS_im_vals)\n"
   ]
  },
  {
   "cell_type": "code",
   "execution_count": 399,
   "metadata": {},
   "outputs": [
    {
     "name": "stderr",
     "output_type": "stream",
     "text": [
      "/Users/matthewhwang/anaconda3/lib/python3.7/site-packages/numpy/lib/histograms.py:824: RuntimeWarning: invalid value encountered in greater_equal\n",
      "  keep = (tmp_a >= first_edge)\n",
      "/Users/matthewhwang/anaconda3/lib/python3.7/site-packages/numpy/lib/histograms.py:825: RuntimeWarning: invalid value encountered in less_equal\n",
      "  keep &= (tmp_a <= last_edge)\n"
     ]
    },
    {
     "data": {
      "text/plain": [
       "(0, 0.03)"
      ]
     },
     "execution_count": 399,
     "metadata": {},
     "output_type": "execute_result"
    },
    {
     "data": {
      "image/png": "[encoded data removed]",
      "text/plain": [
       "<Figure size 640x480 with 1 Axes>"
      ]
     },
     "metadata": {},
     "output_type": "display_data"
    }
   ],
   "source": [
    "from matplotlib.pyplot import figure\n",
    "\n",
    "plt.style.use('ggplot')\n",
    "figure(num=None, figsize=(8, 6), dpi=80, facecolor='w', edgecolor='k')\n",
    "plt.hist(WC_im_vals, bins = 100,label=\"West Coast\",color='k',fc=(0, 0, 0, 0.25));\n",
    "plt.hist(MW_im_vals, bins = 100,label=\"MidWest\",color='r',fc=(1, 0, 0, 0.5));\n",
    "plt.hist(EC_im_vals, bins = 100,label=\"East Coast\",color='g',fc=(0, 1, 0, 0.5));\n",
    "plt.hist(DS_im_vals, bins = 100,label=\"Dirty South\",color='b',fc=(0, 0, 1, 0.25));\n",
    "plt.title(\"Mean 'I'm' Divided by Total Words (cleaned) in Songs Per Region\",size=20,pad=10)\n",
    "plt.axvline(0.0071570725045960425,color='grey')\n",
    "plt.axvline(0.007414747172680575,color='r')\n",
    "plt.axvline(0.007136663857011792,color='g')\n",
    "plt.axvline(0.006252517021906888,color='b')\n",
    "plt.tick_params(labelsize=\"large\")\n",
    "plt.xlabel(\"Count (I'm) over Total\",fontsize=\"20\")\n",
    "plt.ylabel(\"Frequency\",fontsize=\"20\")\n",
    "plt.legend(prop={'size': 16})\n",
    "plt.xlim(0,0.03)"
   ]
  },
  {
   "cell_type": "code",
   "execution_count": 375,
   "metadata": {},
   "outputs": [],
   "source": [
    "import json\n",
    "my_dict = {\"Dirty South\":DS_im_vals}"
   ]
  },
  {
   "cell_type": "code",
   "execution_count": 376,
   "metadata": {},
   "outputs": [],
   "source": [
    "with open('Dirty_South_im_vals.txt', 'w') as outfile:\n",
    "    json.dump(my_dict, outfile)"
   ]
  },
  {
   "cell_type": "code",
   "execution_count": 59,
   "metadata": {},
   "outputs": [],
   "source": [
    "badwords = pd.read_csv(\"/Users/matthewhwang/Downloads/Badwords.csv\")\n",
    "badword_list = badwords[\"4r5e\"].to_list()"
   ]
  },
  {
   "cell_type": "code",
   "execution_count": null,
   "metadata": {},
   "outputs": [],
   "source": [
    "hello[\"count_bad_words\"] = hello[\"lyrics\"].apply(lambda x: )"
   ]
  },
  {
   "cell_type": "code",
   "execution_count": 25,
   "metadata": {},
   "outputs": [],
   "source": [
    "hello.to_csv(r'/Users/matthewhwang/Galvanize/Capstone1/Data/Processed/Snoop Dogg_DF.csv')"
   ]
  },
  {
   "cell_type": "markdown",
   "metadata": {},
   "source": [
    "# CONGREGATION"
   ]
  },
  {
   "cell_type": "code",
   "execution_count": 409,
   "metadata": {},
   "outputs": [
    {
     "data": {
      "text/html": [
       "<div>\n",
       "<style scoped>\n",
       "    .dataframe tbody tr th:only-of-type {\n",
       "        vertical-align: middle;\n",
       "    }\n",
       "\n",
       "    .dataframe tbody tr th {\n",
       "        vertical-align: top;\n",
       "    }\n",
       "\n",
       "    .dataframe thead th {\n",
       "        text-align: right;\n",
       "    }\n",
       "</style>\n",
       "<table border=\"1\" class=\"dataframe\">\n",
       "  <thead>\n",
       "    <tr style=\"text-align: right;\">\n",
       "      <th></th>\n",
       "      <th>Word</th>\n",
       "      <th>Count</th>\n",
       "      <th>artist</th>\n",
       "    </tr>\n",
       "  </thead>\n",
       "  <tbody>\n",
       "    <tr>\n",
       "      <th>0</th>\n",
       "      <td>im</td>\n",
       "      <td>1770</td>\n",
       "      <td>2 Chainz</td>\n",
       "    </tr>\n",
       "    <tr>\n",
       "      <th>1</th>\n",
       "      <td>yeah</td>\n",
       "      <td>901</td>\n",
       "      <td>2 Chainz</td>\n",
       "    </tr>\n",
       "    <tr>\n",
       "      <th>2</th>\n",
       "      <td>nigga</td>\n",
       "      <td>695</td>\n",
       "      <td>2 Chainz</td>\n",
       "    </tr>\n",
       "    <tr>\n",
       "      <th>3</th>\n",
       "      <td>bitch</td>\n",
       "      <td>537</td>\n",
       "      <td>2 Chainz</td>\n",
       "    </tr>\n",
       "    <tr>\n",
       "      <th>4</th>\n",
       "      <td>niggas</td>\n",
       "      <td>465</td>\n",
       "      <td>2 Chainz</td>\n",
       "    </tr>\n",
       "    <tr>\n",
       "      <th>5</th>\n",
       "      <td>shit</td>\n",
       "      <td>455</td>\n",
       "      <td>2 Chainz</td>\n",
       "    </tr>\n",
       "    <tr>\n",
       "      <th>6</th>\n",
       "      <td>fuck</td>\n",
       "      <td>369</td>\n",
       "      <td>2 Chainz</td>\n",
       "    </tr>\n",
       "    <tr>\n",
       "      <th>7</th>\n",
       "      <td>money</td>\n",
       "      <td>327</td>\n",
       "      <td>2 Chainz</td>\n",
       "    </tr>\n",
       "    <tr>\n",
       "      <th>8</th>\n",
       "      <td>back</td>\n",
       "      <td>317</td>\n",
       "      <td>2 Chainz</td>\n",
       "    </tr>\n",
       "    <tr>\n",
       "      <th>9</th>\n",
       "      <td>make</td>\n",
       "      <td>309</td>\n",
       "      <td>2 Chainz</td>\n",
       "    </tr>\n",
       "  </tbody>\n",
       "</table>\n",
       "</div>"
      ],
      "text/plain": [
       "     Word  Count    artist\n",
       "0      im   1770  2 Chainz\n",
       "1    yeah    901  2 Chainz\n",
       "2   nigga    695  2 Chainz\n",
       "3   bitch    537  2 Chainz\n",
       "4  niggas    465  2 Chainz\n",
       "5    shit    455  2 Chainz\n",
       "6    fuck    369  2 Chainz\n",
       "7   money    327  2 Chainz\n",
       "8    back    317  2 Chainz\n",
       "9    make    309  2 Chainz"
      ]
     },
     "execution_count": 409,
     "metadata": {},
     "output_type": "execute_result"
    }
   ],
   "source": [
    "import pandas as pd\n",
    "import glob\n",
    "path = \"/Users/matthewhwang/Galvanize/Capstone1/Data/Processed/Top Words Overall/*.csv\"\n",
    "df = pd.read_csv(\"/Users/matthewhwang/Galvanize/Capstone1/Data/Processed/Top Words Overall/2Chainz_TopWords.csv\")\n",
    "\n",
    "# for i,each in enumerate(glob.glob(path)):\n",
    "#     df = pd.read_csv(each)\n",
    "#     if i != 0:\n",
    "#         df_pop[\"{}\".format(i)] = df.head(10)\n",
    "#     else:\n",
    "#         df_pop = df.head(10)\n",
    "df[\"artist\"] = \"2 Chainz\"\n",
    "df.head(10)\n",
    "\n"
   ]
  },
  {
   "cell_type": "code",
   "execution_count": 415,
   "metadata": {},
   "outputs": [],
   "source": [
    "df_master = df_master.append(df.head(10))"
   ]
  },
  {
   "cell_type": "code",
   "execution_count": 423,
   "metadata": {},
   "outputs": [
    {
     "data": {
      "text/html": [
       "<div>\n",
       "<style scoped>\n",
       "    .dataframe tbody tr th:only-of-type {\n",
       "        vertical-align: middle;\n",
       "    }\n",
       "\n",
       "    .dataframe tbody tr th {\n",
       "        vertical-align: top;\n",
       "    }\n",
       "\n",
       "    .dataframe thead th {\n",
       "        text-align: right;\n",
       "    }\n",
       "</style>\n",
       "<table border=\"1\" class=\"dataframe\">\n",
       "  <thead>\n",
       "    <tr style=\"text-align: right;\">\n",
       "      <th></th>\n",
       "      <th>Word</th>\n",
       "      <th>Count</th>\n",
       "      <th>artist</th>\n",
       "    </tr>\n",
       "  </thead>\n",
       "  <tbody>\n",
       "    <tr>\n",
       "      <th>0</th>\n",
       "      <td>im</td>\n",
       "      <td>2566</td>\n",
       "      <td>Snoop Dogg</td>\n",
       "    </tr>\n",
       "    <tr>\n",
       "      <th>1</th>\n",
       "      <td>nigga</td>\n",
       "      <td>1425</td>\n",
       "      <td>Snoop Dogg</td>\n",
       "    </tr>\n",
       "    <tr>\n",
       "      <th>2</th>\n",
       "      <td>yeah</td>\n",
       "      <td>1094</td>\n",
       "      <td>Snoop Dogg</td>\n",
       "    </tr>\n",
       "    <tr>\n",
       "      <th>3</th>\n",
       "      <td>shit</td>\n",
       "      <td>921</td>\n",
       "      <td>Snoop Dogg</td>\n",
       "    </tr>\n",
       "    <tr>\n",
       "      <th>4</th>\n",
       "      <td>one</td>\n",
       "      <td>849</td>\n",
       "      <td>Snoop Dogg</td>\n",
       "    </tr>\n",
       "    <tr>\n",
       "      <th>5</th>\n",
       "      <td>dogg</td>\n",
       "      <td>803</td>\n",
       "      <td>Snoop Dogg</td>\n",
       "    </tr>\n",
       "    <tr>\n",
       "      <th>6</th>\n",
       "      <td>back</td>\n",
       "      <td>764</td>\n",
       "      <td>Snoop Dogg</td>\n",
       "    </tr>\n",
       "    <tr>\n",
       "      <th>7</th>\n",
       "      <td>see</td>\n",
       "      <td>758</td>\n",
       "      <td>Snoop Dogg</td>\n",
       "    </tr>\n",
       "    <tr>\n",
       "      <th>8</th>\n",
       "      <td>niggas</td>\n",
       "      <td>748</td>\n",
       "      <td>Snoop Dogg</td>\n",
       "    </tr>\n",
       "    <tr>\n",
       "      <th>9</th>\n",
       "      <td>bitch</td>\n",
       "      <td>708</td>\n",
       "      <td>Snoop Dogg</td>\n",
       "    </tr>\n",
       "    <tr>\n",
       "      <th>0</th>\n",
       "      <td>im</td>\n",
       "      <td>1770</td>\n",
       "      <td>2 Chainz</td>\n",
       "    </tr>\n",
       "    <tr>\n",
       "      <th>1</th>\n",
       "      <td>yeah</td>\n",
       "      <td>901</td>\n",
       "      <td>2 Chainz</td>\n",
       "    </tr>\n",
       "    <tr>\n",
       "      <th>2</th>\n",
       "      <td>nigga</td>\n",
       "      <td>695</td>\n",
       "      <td>2 Chainz</td>\n",
       "    </tr>\n",
       "    <tr>\n",
       "      <th>3</th>\n",
       "      <td>bitch</td>\n",
       "      <td>537</td>\n",
       "      <td>2 Chainz</td>\n",
       "    </tr>\n",
       "    <tr>\n",
       "      <th>4</th>\n",
       "      <td>niggas</td>\n",
       "      <td>465</td>\n",
       "      <td>2 Chainz</td>\n",
       "    </tr>\n",
       "    <tr>\n",
       "      <th>5</th>\n",
       "      <td>shit</td>\n",
       "      <td>455</td>\n",
       "      <td>2 Chainz</td>\n",
       "    </tr>\n",
       "    <tr>\n",
       "      <th>6</th>\n",
       "      <td>fuck</td>\n",
       "      <td>369</td>\n",
       "      <td>2 Chainz</td>\n",
       "    </tr>\n",
       "    <tr>\n",
       "      <th>7</th>\n",
       "      <td>money</td>\n",
       "      <td>327</td>\n",
       "      <td>2 Chainz</td>\n",
       "    </tr>\n",
       "    <tr>\n",
       "      <th>8</th>\n",
       "      <td>back</td>\n",
       "      <td>317</td>\n",
       "      <td>2 Chainz</td>\n",
       "    </tr>\n",
       "    <tr>\n",
       "      <th>9</th>\n",
       "      <td>make</td>\n",
       "      <td>309</td>\n",
       "      <td>2 Chainz</td>\n",
       "    </tr>\n",
       "  </tbody>\n",
       "</table>\n",
       "</div>"
      ],
      "text/plain": [
       "     Word  Count      artist\n",
       "0      im   2566  Snoop Dogg\n",
       "1   nigga   1425  Snoop Dogg\n",
       "2    yeah   1094  Snoop Dogg\n",
       "3    shit    921  Snoop Dogg\n",
       "4     one    849  Snoop Dogg\n",
       "5    dogg    803  Snoop Dogg\n",
       "6    back    764  Snoop Dogg\n",
       "7     see    758  Snoop Dogg\n",
       "8  niggas    748  Snoop Dogg\n",
       "9   bitch    708  Snoop Dogg\n",
       "0      im   1770    2 Chainz\n",
       "1    yeah    901    2 Chainz\n",
       "2   nigga    695    2 Chainz\n",
       "3   bitch    537    2 Chainz\n",
       "4  niggas    465    2 Chainz\n",
       "5    shit    455    2 Chainz\n",
       "6    fuck    369    2 Chainz\n",
       "7   money    327    2 Chainz\n",
       "8    back    317    2 Chainz\n",
       "9    make    309    2 Chainz"
      ]
     },
     "execution_count": 423,
     "metadata": {},
     "output_type": "execute_result"
    }
   ],
   "source": [
    "df_master"
   ]
  },
  {
   "cell_type": "code",
   "execution_count": 424,
   "metadata": {},
   "outputs": [],
   "source": [
    "df_master.sort_values(['Words','count'],ascending=False).groupby('job').head(3)"
   ]
  },
  {
   "cell_type": "code",
   "execution_count": 425,
   "metadata": {},
   "outputs": [
    {
     "data": {
      "text/plain": [
       "0    2566\n",
       "1    1425\n",
       "2    1094\n",
       "3     921\n",
       "4     849\n",
       "5     803\n",
       "6     764\n",
       "7     758\n",
       "8     748\n",
       "9     708\n",
       "0    1770\n",
       "1     901\n",
       "2     695\n",
       "3     537\n",
       "4     465\n",
       "5     455\n",
       "6     369\n",
       "7     327\n",
       "8     317\n",
       "9     309\n",
       "Name: Count, dtype: int64"
      ]
     },
     "execution_count": 425,
     "metadata": {},
     "output_type": "execute_result"
    }
   ],
   "source": [
    "g.head()"
   ]
  },
  {
   "cell_type": "markdown",
   "metadata": {},
   "source": [
    "# Bad word counts"
   ]
  },
  {
   "cell_type": "code",
   "execution_count": 150,
   "metadata": {},
   "outputs": [],
   "source": [
    "curses = df[df[\"Word\"].isin(badword_list)].sum().values[1]\n",
    "total = df.sum().values\n",
    "im = df[df[\"Word\"]==\"im\"].sum().values[1]"
   ]
  },
  {
   "cell_type": "code",
   "execution_count": 151,
   "metadata": {},
   "outputs": [
    {
     "name": "stdout",
     "output_type": "stream",
     "text": [
      "im rate: [0.0212962]\n",
      "swear rate: [0.0557469]\n",
      "2566\n",
      "6717\n",
      "[120491]\n"
     ]
    }
   ],
   "source": [
    "print(\"im rate: {}\".format(im/total))\n",
    "print(\"swear rate: {}\".format(curses/total))\n",
    "print(im)\n",
    "print(curses)\n",
    "print(total)"
   ]
  },
  {
   "cell_type": "code",
   "execution_count": 152,
   "metadata": {},
   "outputs": [
    {
     "data": {
      "text/html": [
       "<div>\n",
       "<style scoped>\n",
       "    .dataframe tbody tr th:only-of-type {\n",
       "        vertical-align: middle;\n",
       "    }\n",
       "\n",
       "    .dataframe tbody tr th {\n",
       "        vertical-align: top;\n",
       "    }\n",
       "\n",
       "    .dataframe thead th {\n",
       "        text-align: right;\n",
       "    }\n",
       "</style>\n",
       "<table border=\"1\" class=\"dataframe\">\n",
       "  <thead>\n",
       "    <tr style=\"text-align: right;\">\n",
       "      <th></th>\n",
       "      <th>Word</th>\n",
       "      <th>Count</th>\n",
       "    </tr>\n",
       "  </thead>\n",
       "  <tbody>\n",
       "    <tr>\n",
       "      <th>0</th>\n",
       "      <td>im</td>\n",
       "      <td>2566</td>\n",
       "    </tr>\n",
       "    <tr>\n",
       "      <th>1</th>\n",
       "      <td>nigga</td>\n",
       "      <td>1425</td>\n",
       "    </tr>\n",
       "    <tr>\n",
       "      <th>2</th>\n",
       "      <td>yeah</td>\n",
       "      <td>1094</td>\n",
       "    </tr>\n",
       "    <tr>\n",
       "      <th>3</th>\n",
       "      <td>shit</td>\n",
       "      <td>921</td>\n",
       "    </tr>\n",
       "    <tr>\n",
       "      <th>4</th>\n",
       "      <td>one</td>\n",
       "      <td>849</td>\n",
       "    </tr>\n",
       "  </tbody>\n",
       "</table>\n",
       "</div>"
      ],
      "text/plain": [
       "    Word  Count\n",
       "0     im   2566\n",
       "1  nigga   1425\n",
       "2   yeah   1094\n",
       "3   shit    921\n",
       "4    one    849"
      ]
     },
     "execution_count": 152,
     "metadata": {},
     "output_type": "execute_result"
    }
   ],
   "source": [
    "df.head()"
   ]
  },
  {
   "cell_type": "code",
   "execution_count": 8,
   "metadata": {},
   "outputs": [
    {
     "name": "stderr",
     "output_type": "stream",
     "text": [
      "UsageError: Line magic function `%` not found.\n"
     ]
    }
   ],
   "source": []
  },
  {
   "cell_type": "code",
   "execution_count": null,
   "metadata": {},
   "outputs": [],
   "source": []
  }
 ],
 "metadata": {
  "kernelspec": {
   "display_name": "Python 3",
   "language": "python",
   "name": "python3"
  },
  "language_info": {
   "codemirror_mode": {
    "name": "ipython",
    "version": 3
   },
   "file_extension": ".py",
   "mimetype": "text/x-python",
   "name": "python",
   "nbconvert_exporter": "python",
   "pygments_lexer": "ipython3",
   "version": "3.7.3"
  }
 },
 "nbformat": 4,
 "nbformat_minor": 2
}
