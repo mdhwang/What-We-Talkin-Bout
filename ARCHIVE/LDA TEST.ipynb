{
 "cells": [
  {
   "cell_type": "code",
   "execution_count": 3,
   "metadata": {},
   "outputs": [],
   "source": [
    "import pandas as pd\n",
    "data = pd.read_csv('abcnews-date-text.csv', error_bad_lines=False);\n",
    "data_text = data[['headline_text']]\n",
    "data_text['index'] = data_text.index\n",
    "documents = data_text"
   ]
  },
  {
   "cell_type": "code",
   "execution_count": 7,
   "metadata": {},
   "outputs": [
    {
     "data": {
      "text/html": [
       "<div>\n",
       "<style scoped>\n",
       "    .dataframe tbody tr th:only-of-type {\n",
       "        vertical-align: middle;\n",
       "    }\n",
       "\n",
       "    .dataframe tbody tr th {\n",
       "        vertical-align: top;\n",
       "    }\n",
       "\n",
       "    .dataframe thead th {\n",
       "        text-align: right;\n",
       "    }\n",
       "</style>\n",
       "<table border=\"1\" class=\"dataframe\">\n",
       "  <thead>\n",
       "    <tr style=\"text-align: right;\">\n",
       "      <th></th>\n",
       "      <th>headline_text</th>\n",
       "      <th>index</th>\n",
       "    </tr>\n",
       "  </thead>\n",
       "  <tbody>\n",
       "    <tr>\n",
       "      <th>0</th>\n",
       "      <td>aba decides against community broadcasting lic...</td>\n",
       "      <td>0</td>\n",
       "    </tr>\n",
       "    <tr>\n",
       "      <th>1</th>\n",
       "      <td>act fire witnesses must be aware of defamation</td>\n",
       "      <td>1</td>\n",
       "    </tr>\n",
       "    <tr>\n",
       "      <th>2</th>\n",
       "      <td>a g calls for infrastructure protection summit</td>\n",
       "      <td>2</td>\n",
       "    </tr>\n",
       "    <tr>\n",
       "      <th>3</th>\n",
       "      <td>air nz staff in aust strike for pay rise</td>\n",
       "      <td>3</td>\n",
       "    </tr>\n",
       "    <tr>\n",
       "      <th>4</th>\n",
       "      <td>air nz strike to affect australian travellers</td>\n",
       "      <td>4</td>\n",
       "    </tr>\n",
       "  </tbody>\n",
       "</table>\n",
       "</div>"
      ],
      "text/plain": [
       "                                       headline_text  index\n",
       "0  aba decides against community broadcasting lic...      0\n",
       "1     act fire witnesses must be aware of defamation      1\n",
       "2     a g calls for infrastructure protection summit      2\n",
       "3           air nz staff in aust strike for pay rise      3\n",
       "4      air nz strike to affect australian travellers      4"
      ]
     },
     "execution_count": 7,
     "metadata": {},
     "output_type": "execute_result"
    }
   ],
   "source": [
    "data_text.head()"
   ]
  },
  {
   "cell_type": "code",
   "execution_count": 9,
   "metadata": {},
   "outputs": [
    {
     "name": "stderr",
     "output_type": "stream",
     "text": [
      "[nltk_data] Downloading package wordnet to\n",
      "[nltk_data]     /Users/matthewhwang/nltk_data...\n",
      "[nltk_data]   Package wordnet is already up-to-date!\n"
     ]
    },
    {
     "data": {
      "text/plain": [
       "True"
      ]
     },
     "execution_count": 9,
     "metadata": {},
     "output_type": "execute_result"
    }
   ],
   "source": [
    "import gensim\n",
    "from gensim.utils import simple_preprocess\n",
    "from gensim.parsing.preprocessing import STOPWORDS\n",
    "from nltk.stem import WordNetLemmatizer, SnowballStemmer\n",
    "from nltk.stem.porter import *\n",
    "import numpy as np\n",
    "np.random.seed(2018)\n",
    "import nltk\n",
    "nltk.download('wordnet')"
   ]
  },
  {
   "cell_type": "code",
   "execution_count": 15,
   "metadata": {},
   "outputs": [],
   "source": [
    "def lemmatize_stemming(text):\n",
    "    return stemmer.stem(WordNetLemmatizer().lemmatize(text, pos='v'))\n",
    "def preprocess(text):\n",
    "    result = []\n",
    "    for token in gensim.utils.simple_preprocess(text):\n",
    "        if token not in gensim.parsing.preprocessing.STOPWORDS and len(token) > 3:\n",
    "            result.append(lemmatize_stemming(token))\n",
    "    return result"
   ]
  },
  {
   "cell_type": "code",
   "execution_count": 16,
   "metadata": {},
   "outputs": [
    {
     "name": "stdout",
     "output_type": "stream",
     "text": [
      "original document: \n",
      "['rain', 'helps', 'dampen', 'bushfires']\n",
      "\n",
      "\n",
      " tokenized and lemmatized document: \n",
      "['rain', 'help', 'dampen', 'bushfir']\n"
     ]
    }
   ],
   "source": [
    "stemmer = SnowballStemmer(\"english\")\n",
    "doc_sample = documents[documents['index'] == 4310].values[0][0]\n",
    "print('original document: ')\n",
    "words = []\n",
    "for word in doc_sample.split(' '):\n",
    "    words.append(word)\n",
    "print(words)\n",
    "print('\\n\\n tokenized and lemmatized document: ')\n",
    "print(preprocess(doc_sample))"
   ]
  },
  {
   "cell_type": "code",
   "execution_count": 17,
   "metadata": {},
   "outputs": [
    {
     "data": {
      "text/plain": [
       "0            [decid, communiti, broadcast, licenc]\n",
       "1                               [wit, awar, defam]\n",
       "2           [call, infrastructur, protect, summit]\n",
       "3                      [staff, aust, strike, rise]\n",
       "4             [strike, affect, australian, travel]\n",
       "5               [ambiti, olsson, win, tripl, jump]\n",
       "6           [antic, delight, record, break, barca]\n",
       "7    [aussi, qualifi, stosur, wast, memphi, match]\n",
       "8            [aust, address, secur, council, iraq]\n",
       "9                         [australia, lock, timet]\n",
       "Name: headline_text, dtype: object"
      ]
     },
     "execution_count": 17,
     "metadata": {},
     "output_type": "execute_result"
    }
   ],
   "source": [
    "processed_docs = documents['headline_text'].map(preprocess)\n",
    "processed_docs[:10]"
   ]
  },
  {
   "cell_type": "code",
   "execution_count": 18,
   "metadata": {},
   "outputs": [
    {
     "name": "stdout",
     "output_type": "stream",
     "text": [
      "0 broadcast\n",
      "1 communiti\n",
      "2 decid\n",
      "3 licenc\n",
      "4 awar\n",
      "5 defam\n",
      "6 wit\n",
      "7 call\n",
      "8 infrastructur\n",
      "9 protect\n",
      "10 summit\n"
     ]
    }
   ],
   "source": [
    "dictionary = gensim.corpora.Dictionary(processed_docs)\n",
    "count = 0\n",
    "for k, v in dictionary.iteritems():\n",
    "    print(k, v)\n",
    "    count += 1\n",
    "    if count > 10:\n",
    "        break"
   ]
  },
  {
   "cell_type": "code",
   "execution_count": 19,
   "metadata": {},
   "outputs": [],
   "source": [
    "dictionary.filter_extremes(no_below=15, no_above=0.5, keep_n=100000)"
   ]
  },
  {
   "cell_type": "code",
   "execution_count": 20,
   "metadata": {},
   "outputs": [
    {
     "data": {
      "text/plain": [
       "[(76, 1), (112, 1), (484, 1), (4015, 1)]"
      ]
     },
     "execution_count": 20,
     "metadata": {},
     "output_type": "execute_result"
    }
   ],
   "source": [
    "bow_corpus = [dictionary.doc2bow(doc) for doc in processed_docs]\n",
    "bow_corpus[4310]"
   ]
  },
  {
   "cell_type": "code",
   "execution_count": 21,
   "metadata": {},
   "outputs": [
    {
     "name": "stdout",
     "output_type": "stream",
     "text": [
      "Word 76 (\"bushfir\") appears 1 time.\n",
      "Word 112 (\"help\") appears 1 time.\n",
      "Word 484 (\"rain\") appears 1 time.\n",
      "Word 4015 (\"dampen\") appears 1 time.\n"
     ]
    }
   ],
   "source": [
    "bow_doc_4310 = bow_corpus[4310]\n",
    "for i in range(len(bow_doc_4310)):\n",
    "    print(\"Word {} (\\\"{}\\\") appears {} time.\".format(bow_doc_4310[i][0], \n",
    "                                               dictionary[bow_doc_4310[i][0]], \n",
    "bow_doc_4310[i][1]))"
   ]
  },
  {
   "cell_type": "code",
   "execution_count": 22,
   "metadata": {},
   "outputs": [
    {
     "name": "stdout",
     "output_type": "stream",
     "text": [
      "[(0, 0.5893154583024485),\n",
      " (1, 0.3892866165028569),\n",
      " (2, 0.49651921997736453),\n",
      " (3, 0.5046106271280878)]\n"
     ]
    }
   ],
   "source": [
    "from gensim import corpora, models\n",
    "tfidf = models.TfidfModel(bow_corpus)\n",
    "corpus_tfidf = tfidf[bow_corpus]\n",
    "from pprint import pprint\n",
    "for doc in corpus_tfidf:\n",
    "    pprint(doc)\n",
    "    break"
   ]
  },
  {
   "cell_type": "code",
   "execution_count": 23,
   "metadata": {},
   "outputs": [],
   "source": [
    "lda_model = gensim.models.LdaMulticore(bow_corpus, num_topics=10, id2word=dictionary, passes=2, workers=2)"
   ]
  },
  {
   "cell_type": "code",
   "execution_count": 24,
   "metadata": {},
   "outputs": [
    {
     "name": "stdout",
     "output_type": "stream",
     "text": [
      "Topic: 0 \n",
      "Words: 0.021*\"warn\" + 0.021*\"market\" + 0.018*\"hospit\" + 0.016*\"health\" + 0.015*\"share\" + 0.015*\"school\" + 0.014*\"minist\" + 0.014*\"break\" + 0.013*\"worker\" + 0.013*\"student\"\n",
      "Topic: 1 \n",
      "Words: 0.026*\"australian\" + 0.026*\"adelaid\" + 0.020*\"test\" + 0.017*\"tasmanian\" + 0.017*\"win\" + 0.016*\"open\" + 0.014*\"melbourn\" + 0.011*\"vote\" + 0.011*\"darwin\" + 0.009*\"parti\"\n",
      "Topic: 2 \n",
      "Words: 0.024*\"chang\" + 0.018*\"miss\" + 0.017*\"tasmania\" + 0.014*\"farmer\" + 0.014*\"concern\" + 0.013*\"fall\" + 0.013*\"busi\" + 0.012*\"show\" + 0.012*\"price\" + 0.011*\"search\"\n",
      "Topic: 3 \n",
      "Words: 0.030*\"govern\" + 0.022*\"south\" + 0.020*\"north\" + 0.017*\"countri\" + 0.016*\"fund\" + 0.015*\"rural\" + 0.014*\"hour\" + 0.013*\"west\" + 0.013*\"indigen\" + 0.013*\"australia\"\n",
      "Topic: 4 \n",
      "Words: 0.021*\"die\" + 0.020*\"live\" + 0.018*\"donald\" + 0.017*\"coast\" + 0.015*\"gold\" + 0.014*\"lose\" + 0.013*\"crash\" + 0.013*\"park\" + 0.012*\"beat\" + 0.012*\"royal\"\n",
      "Topic: 5 \n",
      "Words: 0.028*\"elect\" + 0.021*\"sydney\" + 0.018*\"say\" + 0.014*\"labor\" + 0.014*\"time\" + 0.012*\"call\" + 0.012*\"train\" + 0.011*\"budget\" + 0.010*\"polit\" + 0.010*\"million\"\n",
      "Topic: 6 \n",
      "Words: 0.038*\"polic\" + 0.028*\"charg\" + 0.026*\"court\" + 0.020*\"murder\" + 0.017*\"face\" + 0.015*\"woman\" + 0.015*\"alleg\" + 0.014*\"interview\" + 0.014*\"jail\" + 0.014*\"death\"\n",
      "Topic: 7 \n",
      "Words: 0.033*\"trump\" + 0.024*\"world\" + 0.024*\"australia\" + 0.016*\"final\" + 0.015*\"china\" + 0.014*\"rise\" + 0.012*\"island\" + 0.012*\"leagu\" + 0.011*\"take\" + 0.011*\"citi\"\n",
      "Topic: 8 \n",
      "Words: 0.037*\"year\" + 0.030*\"queensland\" + 0.022*\"canberra\" + 0.014*\"investig\" + 0.014*\"hous\" + 0.014*\"children\" + 0.011*\"game\" + 0.011*\"releas\" + 0.010*\"life\" + 0.010*\"young\"\n",
      "Topic: 9 \n",
      "Words: 0.027*\"kill\" + 0.025*\"home\" + 0.019*\"attack\" + 0.017*\"turnbul\" + 0.014*\"protest\" + 0.014*\"road\" + 0.014*\"driver\" + 0.013*\"farm\" + 0.012*\"polic\" + 0.012*\"forc\"\n"
     ]
    }
   ],
   "source": [
    "for idx, topic in lda_model.print_topics(-1):\n",
    "    print('Topic: {} \\nWords: {}'.format(idx, topic))"
   ]
  },
  {
   "cell_type": "code",
   "execution_count": 25,
   "metadata": {},
   "outputs": [
    {
     "name": "stdout",
     "output_type": "stream",
     "text": [
      "Topic: 0 Word: 0.016*\"crash\" + 0.013*\"polic\" + 0.013*\"miss\" + 0.012*\"die\" + 0.010*\"search\" + 0.010*\"woman\" + 0.009*\"death\" + 0.008*\"bodi\" + 0.007*\"shoot\" + 0.007*\"fatal\"\n",
      "Topic: 1 Word: 0.009*\"energi\" + 0.008*\"ash\" + 0.008*\"decemb\" + 0.006*\"terror\" + 0.006*\"obama\" + 0.005*\"travel\" + 0.005*\"philippin\" + 0.005*\"refus\" + 0.005*\"renew\" + 0.005*\"robert\"\n",
      "Topic: 2 Word: 0.011*\"world\" + 0.010*\"final\" + 0.010*\"drum\" + 0.009*\"australia\" + 0.009*\"leagu\" + 0.007*\"win\" + 0.006*\"open\" + 0.006*\"hobart\" + 0.006*\"climat\" + 0.006*\"rugbi\"\n",
      "Topic: 3 Word: 0.019*\"charg\" + 0.017*\"murder\" + 0.015*\"court\" + 0.011*\"alleg\" + 0.010*\"assault\" + 0.010*\"jail\" + 0.010*\"sentenc\" + 0.009*\"polic\" + 0.009*\"guilti\" + 0.009*\"accus\"\n",
      "Topic: 4 Word: 0.009*\"marriag\" + 0.009*\"cattl\" + 0.006*\"senat\" + 0.006*\"wrap\" + 0.006*\"know\" + 0.005*\"polit\" + 0.005*\"dump\" + 0.005*\"australia\" + 0.005*\"sale\" + 0.004*\"say\"\n",
      "Topic: 5 Word: 0.008*\"kill\" + 0.007*\"truck\" + 0.006*\"islam\" + 0.006*\"driver\" + 0.005*\"michael\" + 0.005*\"pacif\" + 0.005*\"syria\" + 0.005*\"tree\" + 0.005*\"polic\" + 0.005*\"flight\"\n",
      "Topic: 6 Word: 0.020*\"interview\" + 0.011*\"donald\" + 0.010*\"weather\" + 0.010*\"north\" + 0.008*\"south\" + 0.008*\"korea\" + 0.007*\"octob\" + 0.007*\"wednesday\" + 0.006*\"thursday\" + 0.006*\"toni\"\n",
      "Topic: 7 Word: 0.019*\"countri\" + 0.018*\"trump\" + 0.017*\"hour\" + 0.012*\"news\" + 0.009*\"podcast\" + 0.008*\"nation\" + 0.008*\"rural\" + 0.008*\"elect\" + 0.007*\"busi\" + 0.006*\"council\"\n",
      "Topic: 8 Word: 0.010*\"rural\" + 0.010*\"health\" + 0.007*\"royal\" + 0.007*\"govern\" + 0.007*\"farm\" + 0.007*\"sport\" + 0.006*\"fund\" + 0.006*\"commiss\" + 0.006*\"indigen\" + 0.005*\"servic\"\n",
      "Topic: 9 Word: 0.014*\"market\" + 0.010*\"turnbul\" + 0.010*\"share\" + 0.009*\"rise\" + 0.008*\"price\" + 0.008*\"christma\" + 0.008*\"grandstand\" + 0.007*\"australian\" + 0.006*\"fall\" + 0.006*\"dollar\"\n"
     ]
    }
   ],
   "source": [
    "lda_model_tfidf = gensim.models.LdaMulticore(corpus_tfidf, num_topics=10, id2word=dictionary, passes=2, workers=4)\n",
    "for idx, topic in lda_model_tfidf.print_topics(-1):\n",
    "    print('Topic: {} Word: {}'.format(idx, topic))"
   ]
  },
  {
   "cell_type": "code",
   "execution_count": 26,
   "metadata": {},
   "outputs": [
    {
     "data": {
      "text/plain": [
       "['rain', 'help', 'dampen', 'bushfir']"
      ]
     },
     "execution_count": 26,
     "metadata": {},
     "output_type": "execute_result"
    }
   ],
   "source": [
    "processed_docs[4310]"
   ]
  },
  {
   "cell_type": "code",
   "execution_count": 27,
   "metadata": {},
   "outputs": [
    {
     "name": "stdout",
     "output_type": "stream",
     "text": [
      "\n",
      "Score: 0.5313934087753296\t \n",
      "Topic: 0.027*\"kill\" + 0.025*\"home\" + 0.019*\"attack\" + 0.017*\"turnbul\" + 0.014*\"protest\" + 0.014*\"road\" + 0.014*\"driver\" + 0.013*\"farm\" + 0.012*\"polic\" + 0.012*\"forc\"\n",
      "\n",
      "Score: 0.30855828523635864\t \n",
      "Topic: 0.030*\"govern\" + 0.022*\"south\" + 0.020*\"north\" + 0.017*\"countri\" + 0.016*\"fund\" + 0.015*\"rural\" + 0.014*\"hour\" + 0.013*\"west\" + 0.013*\"indigen\" + 0.013*\"australia\"\n",
      "\n",
      "Score: 0.020007742568850517\t \n",
      "Topic: 0.024*\"chang\" + 0.018*\"miss\" + 0.017*\"tasmania\" + 0.014*\"farmer\" + 0.014*\"concern\" + 0.013*\"fall\" + 0.013*\"busi\" + 0.012*\"show\" + 0.012*\"price\" + 0.011*\"search\"\n",
      "\n",
      "Score: 0.020007017999887466\t \n",
      "Topic: 0.021*\"warn\" + 0.021*\"market\" + 0.018*\"hospit\" + 0.016*\"health\" + 0.015*\"share\" + 0.015*\"school\" + 0.014*\"minist\" + 0.014*\"break\" + 0.013*\"worker\" + 0.013*\"student\"\n",
      "\n",
      "Score: 0.020006069913506508\t \n",
      "Topic: 0.038*\"polic\" + 0.028*\"charg\" + 0.026*\"court\" + 0.020*\"murder\" + 0.017*\"face\" + 0.015*\"woman\" + 0.015*\"alleg\" + 0.014*\"interview\" + 0.014*\"jail\" + 0.014*\"death\"\n",
      "\n",
      "Score: 0.02000603824853897\t \n",
      "Topic: 0.021*\"die\" + 0.020*\"live\" + 0.018*\"donald\" + 0.017*\"coast\" + 0.015*\"gold\" + 0.014*\"lose\" + 0.013*\"crash\" + 0.013*\"park\" + 0.012*\"beat\" + 0.012*\"royal\"\n",
      "\n",
      "Score: 0.02000598981976509\t \n",
      "Topic: 0.028*\"elect\" + 0.021*\"sydney\" + 0.018*\"say\" + 0.014*\"labor\" + 0.014*\"time\" + 0.012*\"call\" + 0.012*\"train\" + 0.011*\"budget\" + 0.010*\"polit\" + 0.010*\"million\"\n",
      "\n",
      "Score: 0.020005138590931892\t \n",
      "Topic: 0.037*\"year\" + 0.030*\"queensland\" + 0.022*\"canberra\" + 0.014*\"investig\" + 0.014*\"hous\" + 0.014*\"children\" + 0.011*\"game\" + 0.011*\"releas\" + 0.010*\"life\" + 0.010*\"young\"\n",
      "\n",
      "Score: 0.020005131140351295\t \n",
      "Topic: 0.033*\"trump\" + 0.024*\"world\" + 0.024*\"australia\" + 0.016*\"final\" + 0.015*\"china\" + 0.014*\"rise\" + 0.012*\"island\" + 0.012*\"leagu\" + 0.011*\"take\" + 0.011*\"citi\"\n",
      "\n",
      "Score: 0.0200051236897707\t \n",
      "Topic: 0.026*\"australian\" + 0.026*\"adelaid\" + 0.020*\"test\" + 0.017*\"tasmanian\" + 0.017*\"win\" + 0.016*\"open\" + 0.014*\"melbourn\" + 0.011*\"vote\" + 0.011*\"darwin\" + 0.009*\"parti\"\n"
     ]
    }
   ],
   "source": [
    "for index, score in sorted(lda_model[bow_corpus[4310]], key=lambda tup: -1*tup[1]):\n",
    "    print(\"\\nScore: {}\\t \\nTopic: {}\".format(score, lda_model.print_topic(index, 10)))"
   ]
  },
  {
   "cell_type": "code",
   "execution_count": 28,
   "metadata": {},
   "outputs": [
    {
     "name": "stdout",
     "output_type": "stream",
     "text": [
      "\n",
      "Score: 0.47938376665115356\t \n",
      "Topic: 0.019*\"countri\" + 0.018*\"trump\" + 0.017*\"hour\" + 0.012*\"news\" + 0.009*\"podcast\" + 0.008*\"nation\" + 0.008*\"rural\" + 0.008*\"elect\" + 0.007*\"busi\" + 0.006*\"council\"\n",
      "\n",
      "Score: 0.3605324625968933\t \n",
      "Topic: 0.014*\"market\" + 0.010*\"turnbul\" + 0.010*\"share\" + 0.009*\"rise\" + 0.008*\"price\" + 0.008*\"christma\" + 0.008*\"grandstand\" + 0.007*\"australian\" + 0.006*\"fall\" + 0.006*\"dollar\"\n",
      "\n",
      "Score: 0.020019669085741043\t \n",
      "Topic: 0.020*\"interview\" + 0.011*\"donald\" + 0.010*\"weather\" + 0.010*\"north\" + 0.008*\"south\" + 0.008*\"korea\" + 0.007*\"octob\" + 0.007*\"wednesday\" + 0.006*\"thursday\" + 0.006*\"toni\"\n",
      "\n",
      "Score: 0.020011648535728455\t \n",
      "Topic: 0.016*\"crash\" + 0.013*\"polic\" + 0.013*\"miss\" + 0.012*\"die\" + 0.010*\"search\" + 0.010*\"woman\" + 0.009*\"death\" + 0.008*\"bodi\" + 0.007*\"shoot\" + 0.007*\"fatal\"\n",
      "\n",
      "Score: 0.020010173320770264\t \n",
      "Topic: 0.010*\"rural\" + 0.010*\"health\" + 0.007*\"royal\" + 0.007*\"govern\" + 0.007*\"farm\" + 0.007*\"sport\" + 0.006*\"fund\" + 0.006*\"commiss\" + 0.006*\"indigen\" + 0.005*\"servic\"\n",
      "\n",
      "Score: 0.020009692758321762\t \n",
      "Topic: 0.009*\"marriag\" + 0.009*\"cattl\" + 0.006*\"senat\" + 0.006*\"wrap\" + 0.006*\"know\" + 0.005*\"polit\" + 0.005*\"dump\" + 0.005*\"australia\" + 0.005*\"sale\" + 0.004*\"say\"\n",
      "\n",
      "Score: 0.020008791238069534\t \n",
      "Topic: 0.009*\"energi\" + 0.008*\"ash\" + 0.008*\"decemb\" + 0.006*\"terror\" + 0.006*\"obama\" + 0.005*\"travel\" + 0.005*\"philippin\" + 0.005*\"refus\" + 0.005*\"renew\" + 0.005*\"robert\"\n",
      "\n",
      "Score: 0.020008455961942673\t \n",
      "Topic: 0.008*\"kill\" + 0.007*\"truck\" + 0.006*\"islam\" + 0.006*\"driver\" + 0.005*\"michael\" + 0.005*\"pacif\" + 0.005*\"syria\" + 0.005*\"tree\" + 0.005*\"polic\" + 0.005*\"flight\"\n",
      "\n",
      "Score: 0.02000831998884678\t \n",
      "Topic: 0.019*\"charg\" + 0.017*\"murder\" + 0.015*\"court\" + 0.011*\"alleg\" + 0.010*\"assault\" + 0.010*\"jail\" + 0.010*\"sentenc\" + 0.009*\"polic\" + 0.009*\"guilti\" + 0.009*\"accus\"\n",
      "\n",
      "Score: 0.020007021725177765\t \n",
      "Topic: 0.011*\"world\" + 0.010*\"final\" + 0.010*\"drum\" + 0.009*\"australia\" + 0.009*\"leagu\" + 0.007*\"win\" + 0.006*\"open\" + 0.006*\"hobart\" + 0.006*\"climat\" + 0.006*\"rugbi\"\n"
     ]
    }
   ],
   "source": [
    "for index, score in sorted(lda_model_tfidf[bow_corpus[4310]], key=lambda tup: -1*tup[1]):\n",
    "    print(\"\\nScore: {}\\t \\nTopic: {}\".format(score, lda_model_tfidf.print_topic(index, 10)))\n"
   ]
  },
  {
   "cell_type": "code",
   "execution_count": 29,
   "metadata": {},
   "outputs": [
    {
     "name": "stdout",
     "output_type": "stream",
     "text": [
      "Score: 0.32354652881622314\t Topic: 0.033*\"trump\" + 0.024*\"world\" + 0.024*\"australia\" + 0.016*\"final\" + 0.015*\"china\"\n",
      "Score: 0.21015584468841553\t Topic: 0.021*\"warn\" + 0.021*\"market\" + 0.018*\"hospit\" + 0.016*\"health\" + 0.015*\"share\"\n",
      "Score: 0.18332955241203308\t Topic: 0.038*\"polic\" + 0.028*\"charg\" + 0.026*\"court\" + 0.020*\"murder\" + 0.017*\"face\"\n",
      "Score: 0.18286602199077606\t Topic: 0.028*\"elect\" + 0.021*\"sydney\" + 0.018*\"say\" + 0.014*\"labor\" + 0.014*\"time\"\n",
      "Score: 0.016689125448465347\t Topic: 0.030*\"govern\" + 0.022*\"south\" + 0.020*\"north\" + 0.017*\"countri\" + 0.016*\"fund\"\n",
      "Score: 0.016682587563991547\t Topic: 0.026*\"australian\" + 0.026*\"adelaid\" + 0.020*\"test\" + 0.017*\"tasmanian\" + 0.017*\"win\"\n",
      "Score: 0.016682587563991547\t Topic: 0.024*\"chang\" + 0.018*\"miss\" + 0.017*\"tasmania\" + 0.014*\"farmer\" + 0.014*\"concern\"\n",
      "Score: 0.016682587563991547\t Topic: 0.021*\"die\" + 0.020*\"live\" + 0.018*\"donald\" + 0.017*\"coast\" + 0.015*\"gold\"\n",
      "Score: 0.016682587563991547\t Topic: 0.037*\"year\" + 0.030*\"queensland\" + 0.022*\"canberra\" + 0.014*\"investig\" + 0.014*\"hous\"\n",
      "Score: 0.016682587563991547\t Topic: 0.027*\"kill\" + 0.025*\"home\" + 0.019*\"attack\" + 0.017*\"turnbul\" + 0.014*\"protest\"\n"
     ]
    }
   ],
   "source": [
    "unseen_document = 'How a Pentagon deal became an identity crisis for Google'\n",
    "bow_vector = dictionary.doc2bow(preprocess(unseen_document))\n",
    "for index, score in sorted(lda_model[bow_vector], key=lambda tup: -1*tup[1]):\n",
    "    print(\"Score: {}\\t Topic: {}\".format(score, lda_model.print_topic(index, 5)))"
   ]
  },
  {
   "cell_type": "code",
   "execution_count": null,
   "metadata": {},
   "outputs": [],
   "source": []
  }
 ],
 "metadata": {
  "kernelspec": {
   "display_name": "Python 3",
   "language": "python",
   "name": "python3"
  },
  "language_info": {
   "codemirror_mode": {
    "name": "ipython",
    "version": 3
   },
   "file_extension": ".py",
   "mimetype": "text/x-python",
   "name": "python",
   "nbconvert_exporter": "python",
   "pygments_lexer": "ipython3",
   "version": "3.7.3"
  }
 },
 "nbformat": 4,
 "nbformat_minor": 2
}
