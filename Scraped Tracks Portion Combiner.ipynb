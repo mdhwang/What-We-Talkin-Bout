{
 "cells": [
  {
   "cell_type": "markdown",
   "metadata": {},
   "source": [
    "# Tool used to combined portions of webscraped track lyrics from the same artist together into a master discography file"
   ]
  },
  {
   "cell_type": "code",
   "execution_count": 52,
   "metadata": {},
   "outputs": [],
   "source": [
    "import pandas as pd\n",
    "import glob\n",
    "import json\n",
    "path = \"/Users/matthewhwang/Galvanize/Capstone1/Data/Discographies/Snoop Dogg/*.txt\"\n",
    "\n",
    "master = []\n",
    "for i,each in enumerate(glob.glob(path)):\n",
    "    with open(each, 'r') as f:\n",
    "        contents = []\n",
    "        contents = json.load(f)[\"discography\"]\n",
    "        for track in contents:\n",
    "            master.append(track)\n"
   ]
  },
  {
   "cell_type": "code",
   "execution_count": 53,
   "metadata": {},
   "outputs": [
    {
     "data": {
      "text/plain": [
       "461"
      ]
     },
     "execution_count": 53,
     "metadata": {},
     "output_type": "execute_result"
    }
   ],
   "source": [
    "len(master)"
   ]
  },
  {
   "cell_type": "code",
   "execution_count": 54,
   "metadata": {},
   "outputs": [],
   "source": [
    "my_dict = {\"Snoop Dogg\":master}\n",
    "with open('Snoop Dogg_Master_Discography.txt', 'w') as outfile:\n",
    "    json.dump(my_dict, outfile)"
   ]
  },
  {
   "cell_type": "code",
   "execution_count": null,
   "metadata": {},
   "outputs": [],
   "source": []
  }
 ],
 "metadata": {
  "kernelspec": {
   "display_name": "Python 3",
   "language": "python",
   "name": "python3"
  },
  "language_info": {
   "codemirror_mode": {
    "name": "ipython",
    "version": 3
   },
   "file_extension": ".py",
   "mimetype": "text/x-python",
   "name": "python",
   "nbconvert_exporter": "python",
   "pygments_lexer": "ipython3",
   "version": "3.7.3"
  }
 },
 "nbformat": 4,
 "nbformat_minor": 2
}
