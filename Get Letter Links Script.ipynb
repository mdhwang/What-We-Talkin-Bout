{
 "cells": [
  {
   "cell_type": "code",
   "execution_count": 2,
   "metadata": {},
   "outputs": [],
   "source": [
    "import copy\n",
    "import pandas as pd\n",
    "\n",
    "# Requests sends and recieves HTTP requests.\n",
    "import requests\n",
    "\n",
    "# Beautiful Soup parses HTML documents in python.\n",
    "from bs4 import BeautifulSoup"
   ]
  },
  {
   "cell_type": "code",
   "execution_count": 3,
   "metadata": {},
   "outputs": [
    {
     "data": {
      "text/plain": [
       "requests.models.Response"
      ]
     },
     "execution_count": 3,
     "metadata": {},
     "output_type": "execute_result"
    }
   ],
   "source": [
    "website = 'https://www.azlyrics.com'\n",
    "r = requests.get(website)\n",
    "type(r)"
   ]
  },
  {
   "cell_type": "code",
   "execution_count": 4,
   "metadata": {},
   "outputs": [],
   "source": [
    "soup = BeautifulSoup(r.content, 'html.parser')"
   ]
  },
  {
   "cell_type": "code",
   "execution_count": 5,
   "metadata": {},
   "outputs": [
    {
     "data": {
      "text/plain": [
       "<!DOCTYPE html>\n",
       "\n",
       "<html lang=\"en\">\n",
       "<head>\n",
       "<meta charset=\"utf-8\"/>\n",
       "<meta content=\"IE=edge\" http-equiv=\"X-UA-Compatible\"/>\n",
       "<meta content=\"width=device-width, initial-scale=1\" name=\"viewport\"/>\n",
       "<meta content=\"noarchive\" name=\"robots\"/>\n",
       "<meta content=\"AZLyrics\" name=\"name\"/>\n",
       "<meta content=\"lyrics,music,song lyrics,songs,paroles\" name=\"keywords\"/>\n",
       "<base href=\"//www.azlyrics.com\"/>\n",
       "<script src=\"//www.azlyrics.com/external.js\" type=\"text/javascript\"></script>\n",
       "<title>AZLyrics - Song Lyrics from A to Z</title>\n",
       "<link href=\"https://maxcdn.bootstrapcdn.com/bootstrap/3.3.4/css/bootstrap.min.css\" rel=\"stylesheet\"/>\n",
       "<link href=\"//www.azlyrics.com/bsaz.css\" rel=\"stylesheet\"/>\n",
       "<!-- HTML5 shim and Respond.js for IE8 support of HTML5 elements and media queries -->\n",
       "<!--[if lt IE 9]>\n",
       "      <script src=\"https://oss.maxcdn.com/html5shiv/3.7.2/html5shiv.min.js\"></script>\n",
       "      <script src=\"https://oss.maxcdn.com/respond/1.4.2/respond.min.js\"></script>\n",
       "    <![endif]-->\n",
       "<link href=\"//www.azlyrics.com/local/cookieconsent/cookieconsent.min.css\" rel=\"stylesheet\"/>\n",
       "<script src=\"//www.azlyrics.com/local/cookieconsent/cookieconsent.min.js\"></script>\n",
       "<link href=\"//www.azlyrics.com/local/easyautocomplete/easy-autocomplete.min.css\" rel=\"stylesheet\"/>\n",
       "<link href=\"//www.azlyrics.com/local/easyautocomplete/easy-autocomplete.themes.min.css\" rel=\"stylesheet\"/>\n",
       "<script type=\"text/javascript\">\n",
       "    <!-- \n",
       "      if (top.location != self.location) {\n",
       "      top.location = self.location.href\n",
       "     }\n",
       "    //--> \n",
       "    </script>\n",
       "</head>\n",
       "<body class=\"margin50\">\n",
       "<nav class=\"navbar navbar-default navbar-fixed-top\">\n",
       "<div class=\"container\">\n",
       "<div class=\"navbar-header\">\n",
       "<button class=\"navbar-toggle collapsed\" data-target=\"#search-collapse\" data-toggle=\"collapse\" type=\"button\"><span class=\"glyphicon glyphicon-search\"></span></button>\n",
       "<button class=\"navbar-toggle collapsed\" data-target=\"#artists-collapse\" data-toggle=\"collapse\" type=\"button\"><span class=\"glyphicon glyphicon-th-list\"></span></button>\n",
       "<a class=\"navbar-brand\" href=\"//www.azlyrics.com\"><img alt=\"AZLyrics.com\" class=\"pull-left\" src=\"//www.azlyrics.com/az_logo_tr.png\" style=\"max-height:40px; margin-top:-10px;\"/></a>\n",
       "</div>\n",
       "<ul class=\"collapse navbar-collapse nav navbar-nav\" id=\"artists-collapse\">\n",
       "<li>\n",
       "<div class=\"btn-group text-center\" role=\"group\">\n",
       "<a class=\"btn btn-menu\" href=\"//www.azlyrics.com/a.html\">A</a>\n",
       "<a class=\"btn btn-menu\" href=\"//www.azlyrics.com/b.html\">B</a>\n",
       "<a class=\"btn btn-menu\" href=\"//www.azlyrics.com/c.html\">C</a>\n",
       "<a class=\"btn btn-menu\" href=\"//www.azlyrics.com/d.html\">D</a>\n",
       "<a class=\"btn btn-menu\" href=\"//www.azlyrics.com/e.html\">E</a>\n",
       "<a class=\"btn btn-menu\" href=\"//www.azlyrics.com/f.html\">F</a>\n",
       "<a class=\"btn btn-menu\" href=\"//www.azlyrics.com/g.html\">G</a>\n",
       "<a class=\"btn btn-menu\" href=\"//www.azlyrics.com/h.html\">H</a>\n",
       "<a class=\"btn btn-menu\" href=\"//www.azlyrics.com/i.html\">I</a>\n",
       "<a class=\"btn btn-menu\" href=\"//www.azlyrics.com/j.html\">J</a>\n",
       "<a class=\"btn btn-menu\" href=\"//www.azlyrics.com/k.html\">K</a>\n",
       "<a class=\"btn btn-menu\" href=\"//www.azlyrics.com/l.html\">L</a>\n",
       "<a class=\"btn btn-menu\" href=\"//www.azlyrics.com/m.html\">M</a>\n",
       "<a class=\"btn btn-menu\" href=\"//www.azlyrics.com/n.html\">N</a>\n",
       "<a class=\"btn btn-menu\" href=\"//www.azlyrics.com/o.html\">O</a>\n",
       "<a class=\"btn btn-menu\" href=\"//www.azlyrics.com/p.html\">P</a>\n",
       "<a class=\"btn btn-menu\" href=\"//www.azlyrics.com/q.html\">Q</a>\n",
       "<a class=\"btn btn-menu\" href=\"//www.azlyrics.com/r.html\">R</a>\n",
       "<a class=\"btn btn-menu\" href=\"//www.azlyrics.com/s.html\">S</a>\n",
       "<a class=\"btn btn-menu\" href=\"//www.azlyrics.com/t.html\">T</a>\n",
       "<a class=\"btn btn-menu\" href=\"//www.azlyrics.com/u.html\">U</a>\n",
       "<a class=\"btn btn-menu\" href=\"//www.azlyrics.com/v.html\">V</a>\n",
       "<a class=\"btn btn-menu\" href=\"//www.azlyrics.com/w.html\">W</a>\n",
       "<a class=\"btn btn-menu\" href=\"//www.azlyrics.com/x.html\">X</a>\n",
       "<a class=\"btn btn-menu\" href=\"//www.azlyrics.com/y.html\">Y</a>\n",
       "<a class=\"btn btn-menu\" href=\"//www.azlyrics.com/z.html\">Z</a>\n",
       "<a class=\"btn btn-menu\" href=\"//www.azlyrics.com/19.html\">#</a>\n",
       "</div>\n",
       "</li>\n",
       "</ul>\n",
       "<div class=\"collapse navbar-collapse\" id=\"search-collapse\">\n",
       "<form action=\"//search.azlyrics.com/search.php\" class=\"navbar-form navbar-right search\" method=\"get\" role=\"search\">\n",
       "<div class=\"input-group\">\n",
       "<input class=\"form-control\" id=\"q\" name=\"q\" placeholder=\"\" type=\"text\"/>\n",
       "<span class=\"input-group-btn\">\n",
       "<button class=\"btn btn-primary\" type=\"submit\"><span class=\"glyphicon glyphicon-search\"></span> Search</button>\n",
       "</span>\n",
       "</div>\n",
       "</form>\n",
       "</div><!-- /.navbar-collapse -->\n",
       "</div><!-- /.container -->\n",
       "</nav>\n",
       "<!-- top ban -->\n",
       "<div class=\"lboard-wrap\">\n",
       "<div class=\"container\">\n",
       "<div class=\"row\">\n",
       "<div class=\"col-xs-12 top-ad text-center\">\n",
       "<span id=\"cf_banner_top_nofc\"></span>\n",
       "</div>\n",
       "</div>\n",
       "</div>\n",
       "</div>\n",
       "<!-- main -->\n",
       "<div class=\"container main-page\">\n",
       "<div class=\"row\">\n",
       "<div class=\"col-sm-6 col-lg-4 col-lg-offset-2 text-center artist-col\">\n",
       "<h1>Welcome to AZLyrics!</h1><br/>\n",
       "              It's a place where all searches end!<br/><br/>\n",
       "              We have a large, legal, every day growing universe of lyrics where stars of all genres and ages shine.<br/><br/>\n",
       "<form action=\"//search.azlyrics.com/search.php\" class=\"search\" method=\"get\" role=\"search\">\n",
       "<div class=\"input-group\">\n",
       "<input class=\"form-control\" name=\"q\" placeholder=\"\" type=\"text\"/>\n",
       "<span class=\"input-group-btn\">\n",
       "<button class=\"btn btn-primary\" type=\"submit\"><span class=\"glyphicon glyphicon-search\"></span></button>\n",
       "</span>\n",
       "</div>\n",
       "</form>\n",
       "<p class=\"help-block\">Enter artist name or song title</p>\n",
       "</div>\n",
       "<div class=\"col-sm-6 col-lg-4 text-center artist-col\">\n",
       "<div class=\"hidden-xs rect-ad\">\n",
       "<span id=\"cf_medrec\"></span>\n",
       "</div>\n",
       "</div>\n",
       "</div>\n",
       "<div class=\"row\">\n",
       "<div class=\"col-xs-12 col-lg-8 col-lg-offset-2 text-center artist-col\">\n",
       "<h1>WHAT'S HOT?</h1>\n",
       "</div>\n",
       "</div>\n",
       "<!-- what's hot placeholder -->\n",
       "<div class=\"row\">\n",
       "<div class=\"col-xs-6 col-sm-3 col-lg-2 col-lg-offset-2 albuma\"><a href=\"/p/postmalone.html#72013\"><img alt=\"\" src=\"/hot/72013.jpg\"/></a><a href=\"/p/postmalone.html#72013\">Post Malone</a> \"Hollywood's Bleeding\"</div>\n",
       "<div class=\"col-xs-6 col-sm-3 col-lg-2 albuma\"><a href=\"/e/earthgang.html#61685\"><img alt=\"\" src=\"/hot/61685.jpg\"/></a><a href=\"/e/earthgang.html#61685\">EARTHGANG</a> \"Mirrorland\"</div>\n",
       "<div class=\"clearfix visible-xs-block\"></div>\n",
       "<div class=\"col-xs-6 col-sm-3 col-lg-2 albuma\"><a href=\"/m/mahalia.html#69782\"><img alt=\"\" src=\"/hot/69782.jpg\"/></a><a href=\"/m/mahalia.html#69782\">Mahalia</a> \"Love And Compromise\"</div>\n",
       "<div class=\"col-xs-6 col-sm-3 col-lg-2 albuma\"><a href=\"/m/melaniemartinez.html#71917\"><img alt=\"\" src=\"/hot/71917.jpg\"/></a><a href=\"/m/melaniemartinez.html#71917\">Melanie Martinez</a> \"K-12\"</div>\n",
       "</div>\n",
       "<div class=\"row\">\n",
       "<div class=\"col-xs-6 col-sm-3 col-lg-2 col-lg-offset-2 albuma\"><a href=\"/m/muna.html#69474\"><img alt=\"\" src=\"/hot/69474.jpg\"/></a><a href=\"/m/muna.html#69474\">MUNA</a> \"Saves The World\"</div>\n",
       "<div class=\"col-xs-6 col-sm-3 col-lg-2 albuma\"><a href=\"/h/highwomen.html#70836\"><img alt=\"\" src=\"/hot/70836.jpg\"/></a><a href=\"/h/highwomen.html#70836\">The Highwomen</a> \"The Highwomen\"</div>\n",
       "<div class=\"clearfix visible-xs-block\"></div>\n",
       "<div class=\"col-xs-6 col-sm-3 col-lg-2 albuma\"><a href=\"/s/sleepingwithsirens.html#69810\"><img alt=\"\" src=\"/hot/69810.jpg\"/></a><a href=\"/s/sleepingwithsirens.html#69810\">Sleeping With Sirens</a> \"How It Feels To Be Lost\"</div>\n",
       "<div class=\"col-xs-6 col-sm-3 col-lg-2 albuma\"><a href=\"/s/sonataarctica.html#71633\"><img alt=\"\" src=\"/hot/71633.jpg\"/></a><a href=\"/s/sonataarctica.html#71633\">Sonata Arctica</a> \"Talviyö\"</div>\n",
       "</div>\n",
       "<div class=\"row\">\n",
       "<div class=\"col-xs-6 col-sm-3 col-lg-2 col-lg-offset-2 albuma\"><a href=\"/l/lanadelrey.html#61405\"><img alt=\"\" src=\"/hot/61405.jpg\"/></a><a href=\"/l/lanadelrey.html#61405\">Lana Del Rey</a> \"Norman Fucking Rockwell!\"</div>\n",
       "<div class=\"col-xs-6 col-sm-3 col-lg-2 albuma\"><a href=\"/l/liltecca.html#71810\"><img alt=\"\" src=\"/hot/71810.jpg\"/></a><a href=\"/l/liltecca.html#71810\">Lil Tecca</a> \"We Love You Tecca\"</div>\n",
       "<div class=\"clearfix visible-xs-block\"></div>\n",
       "<div class=\"col-xs-6 col-sm-3 col-lg-2 albuma\"><a href=\"/c/crow.html#69684\"><img alt=\"\" src=\"/hot/69684.jpg\"/></a><a href=\"/c/crow.html#69684\">Sheryl Crow</a> \"Threads\"</div>\n",
       "<div class=\"col-xs-6 col-sm-3 col-lg-2 albuma\"><a href=\"/s/sir.html#71780\"><img alt=\"\" src=\"/hot/71780.jpg\"/></a><a href=\"/s/sir.html#71780\">SiR</a> \"Chasing Summer\"</div>\n",
       "</div>\n",
       "<div class=\"row\">\n",
       "<div class=\"col-xs-6 col-sm-3 col-lg-2 col-lg-offset-2 albuma\"><a href=\"/t/tool.html#71173\"><img alt=\"\" src=\"/hot/71173.jpg\"/></a><a href=\"/t/tool.html#71173\">Tool</a> \"Fear Inoculum\"</div>\n",
       "<div class=\"col-xs-6 col-sm-3 col-lg-2 albuma\"><a href=\"/t/trishayearwood.html#70180\"><img alt=\"\" src=\"/hot/70180.jpg\"/></a><a href=\"/t/trishayearwood.html#70180\">Trisha Yearwood</a> \"Every Girl\"</div>\n",
       "<div class=\"clearfix visible-xs-block\"></div>\n",
       "<div class=\"col-xs-6 col-sm-3 col-lg-2 albuma\"><a href=\"/w/wagewar.html#70538\"><img alt=\"\" src=\"/hot/70538.jpg\"/></a><a href=\"/w/wagewar.html#70538\">Wage War</a> \"Pressure\"</div>\n",
       "<div class=\"col-xs-6 col-sm-3 col-lg-2 albuma\"><a href=\"/w/wittlowry.html#71549\"><img alt=\"\" src=\"/hot/71549.jpg\"/></a><a href=\"/w/wittlowry.html#71549\">Witt Lowry</a> \"Nevers Road\"</div>\n",
       "</div>\n",
       "<!-- end of what's hot placeholder -->\n",
       "</div> <!-- container main-page -->\n",
       "<!-- nav bottom -->\n",
       "<nav class=\"navbar navbar-default navbar-bottom\">\n",
       "<div class=\"container text-center\">\n",
       "<ul class=\"nav navbar-nav navbar-center\">\n",
       "<li><a href=\"//www.azlyrics.com/add.php\">Submit Lyrics</a></li>\n",
       "<li><a href=\"//www.stlyrics.com\">Soundtracks</a></li>\n",
       "<li><a href=\"//www.facebook.com/pages/AZLyricscom/154139197951223\">Facebook</a></li>\n",
       "<li><a href=\"//www.azlyrics.com/contact.html\">Contact Us</a></li>\n",
       "</ul>\n",
       "</div>\n",
       "</nav>\n",
       "<!-- bot ban -->\n",
       "<div class=\"lboard-wrap\">\n",
       "<div class=\"container\">\n",
       "<div class=\"row\">\n",
       "<div class=\"col-xs-12 top-ad text-center\">\n",
       "<span id=\"cf_banner_bottom\"></span>\n",
       "</div>\n",
       "</div>\n",
       "</div>\n",
       "</div>\n",
       "<!-- footer -->\n",
       "<nav class=\"navbar navbar-footer\">\n",
       "<div class=\"container text-center\">\n",
       "<ul class=\"nav navbar-nav navbar-center\">\n",
       "<li><a href=\"//www.azlyrics.com/adv.html\">Advertise Here</a></li>\n",
       "<li><a href=\"//www.azlyrics.com/privacy.html\">Privacy Policy</a></li>\n",
       "<li><a href=\"//www.azlyrics.com/cookie.html\">Cookie Policy</a></li>\n",
       "<li><a href=\"//www.azlyrics.com/copyright.html\">DMCA Policy</a></li>\n",
       "</ul>\n",
       "</div>\n",
       "</nav>\n",
       "<div class=\"footer-wrap\">\n",
       "<div class=\"container\">\n",
       "<small>\n",
       "             All lyrics are property and copyright of their owners. All lyrics provided for educational purposes and personal use only.<br/>\n",
       "<script type=\"text/javascript\">\n",
       "                curdate=new Date();\n",
       "                document.write(\"<strong>Copyright &copy; 2000-\"+curdate.getFullYear()+\" AZLyrics.com<\\/strong>\");\n",
       "             </script>\n",
       "</small>\n",
       "</div>\n",
       "</div>\n",
       "<script>\n",
       "cf_page_artist = \"\";\n",
       "cf_page_song = \"\";\n",
       "cf_page_genre = \"\";\n",
       "</script>\n",
       "<script src=\"//cdn.clickfuse.com/publishers/azlyrics/single.min.js\"></script>\n",
       "<script type=\"text/javascript\">\n",
       "\n",
       "  var _gaq = _gaq || [];\n",
       "  _gaq.push(['_setAccount', 'UA-4309237-1']);\n",
       "\n",
       "  (function() {\n",
       "    var ga = document.createElement('script'); ga.type = 'text/javascript'; ga.async = true;\n",
       "    ga.src = ('https:' == document.location.protocol ? 'https://ssl' : 'http://www') + '.google-analytics.com/ga.js';\n",
       "    var s = document.getElementsByTagName('script')[0]; s.parentNode.insertBefore(ga, s);\n",
       "  })();\n",
       "\n",
       "</script>\n",
       "<div class=\"hidden\" id=\"CssFailCheck\" style=\"height:1px;\"></div>\n",
       "<script src=\"https://ajax.googleapis.com/ajax/libs/jquery/1.11.2/jquery.min.js\"></script>\n",
       "<script>window.jQuery || document.write('<script src=\"//www.azlyrics.com/local/jquery.min.js\"><\\/script>')</script>\n",
       "<script>\n",
       "      $(function () {\n",
       "       if ($('#CssFailCheck').is(':visible') === true) {\n",
       "         $('<link rel=\"stylesheet\" type=\"text/css\" href=\"//www.azlyrics.com/bs/css/bootstrap.min.css\"><link rel=\"stylesheet\" href=\"//www.azlyrics.com/bsaz.css\">').appendTo('head');\n",
       "       }\n",
       "      });\n",
       "    </script>\n",
       "<script src=\"//www.azlyrics.com/collapse.js\"></script>\n",
       "<script src=\"//www.azlyrics.com/geo.js\"></script>\n",
       "<script src=\"//www.azlyrics.com/local/easyautocomplete/jquery.easy-autocomplete.js\"></script>\n",
       "</body>\n",
       "</html>"
      ]
     },
     "execution_count": 5,
     "metadata": {},
     "output_type": "execute_result"
    }
   ],
   "source": [
    "soup"
   ]
  },
  {
   "cell_type": "code",
   "execution_count": 12,
   "metadata": {},
   "outputs": [],
   "source": [
    "links = []\n",
    "for each in soup.find_all('a'):\n",
    "    links.append(each.get(\"href\"))"
   ]
  },
  {
   "cell_type": "code",
   "execution_count": 14,
   "metadata": {},
   "outputs": [
    {
     "data": {
      "text/plain": [
       "['//www.azlyrics.com/a.html',\n",
       " '//www.azlyrics.com/b.html',\n",
       " '//www.azlyrics.com/c.html',\n",
       " '//www.azlyrics.com/d.html',\n",
       " '//www.azlyrics.com/e.html',\n",
       " '//www.azlyrics.com/f.html',\n",
       " '//www.azlyrics.com/g.html',\n",
       " '//www.azlyrics.com/h.html',\n",
       " '//www.azlyrics.com/i.html',\n",
       " '//www.azlyrics.com/j.html',\n",
       " '//www.azlyrics.com/k.html',\n",
       " '//www.azlyrics.com/l.html',\n",
       " '//www.azlyrics.com/m.html',\n",
       " '//www.azlyrics.com/n.html',\n",
       " '//www.azlyrics.com/o.html',\n",
       " '//www.azlyrics.com/p.html',\n",
       " '//www.azlyrics.com/q.html',\n",
       " '//www.azlyrics.com/r.html',\n",
       " '//www.azlyrics.com/s.html',\n",
       " '//www.azlyrics.com/t.html',\n",
       " '//www.azlyrics.com/u.html',\n",
       " '//www.azlyrics.com/v.html',\n",
       " '//www.azlyrics.com/w.html',\n",
       " '//www.azlyrics.com/x.html',\n",
       " '//www.azlyrics.com/y.html',\n",
       " '//www.azlyrics.com/z.html',\n",
       " '//www.azlyrics.com/19.html']"
      ]
     },
     "execution_count": 14,
     "metadata": {},
     "output_type": "execute_result"
    }
   ],
   "source": [
    "links = links[1:28]\n",
    "links"
   ]
  },
  {
   "cell_type": "code",
   "execution_count": 21,
   "metadata": {},
   "outputs": [
    {
     "data": {
      "text/plain": [
       "534"
      ]
     },
     "execution_count": 21,
     "metadata": {},
     "output_type": "execute_result"
    }
   ],
   "source": [
    "len(links)"
   ]
  },
  {
   "cell_type": "code",
   "execution_count": 55,
   "metadata": {},
   "outputs": [],
   "source": [
    "home_url = \"https://www.azlyrics.com/\"\n",
    "for i,each in enumerate(links):\n",
    "     links[i] = each.replace(\"..\",home_url)"
   ]
  },
  {
   "cell_type": "code",
   "execution_count": 56,
   "metadata": {},
   "outputs": [
    {
     "data": {
      "text/plain": [
       "['https://www.azlyrics.com//lyrics/postmalone/neverunderstand.html',\n",
       " 'https://www.azlyrics.com//lyrics/postmalone/moneymademedoit.html',\n",
       " 'https://www.azlyrics.com//lyrics/postmalone/gitwitu.html',\n",
       " 'https://www.azlyrics.com//lyrics/postmalone/goddamn.html',\n",
       " 'https://www.azlyrics.com//lyrics/postmalone/fuck.html',\n",
       " 'https://www.azlyrics.com//lyrics/postmalone/40funk.html',\n",
       " 'https://www.azlyrics.com//lyrics/postmalone/monte.html',\n",
       " 'https://www.azlyrics.com//lyrics/postmalone/hollywooddreamscomedown.html',\n",
       " 'https://www.azlyrics.com//lyrics/postmalone/lonely.html',\n",
       " 'https://www.azlyrics.com//lyrics/postmalone/ohgod.html',\n",
       " 'https://www.azlyrics.com//lyrics/postmalone/brokenwhiskeyglass.html',\n",
       " 'https://www.azlyrics.com//lyrics/postmalone/biglie.html',\n",
       " 'https://www.azlyrics.com//lyrics/postmalone/dejavu.html',\n",
       " 'https://www.azlyrics.com//lyrics/postmalone/nooption.html',\n",
       " 'https://www.azlyrics.com//lyrics/postmalone/cold.html',\n",
       " 'https://www.azlyrics.com//lyrics/postmalone/whiteiverson.html',\n",
       " 'https://www.azlyrics.com//lyrics/postmalone/ifallapart.html',\n",
       " 'https://www.azlyrics.com//lyrics/postmalone/patient.html',\n",
       " 'https://www.azlyrics.com//lyrics/postmalone/goflex.html',\n",
       " 'https://www.azlyrics.com//lyrics/postmalone/feel.html',\n",
       " 'https://www.azlyrics.com//lyrics/postmalone/tooyoung.html',\n",
       " 'https://www.azlyrics.com//lyrics/postmalone/congratulations.html',\n",
       " 'https://www.azlyrics.com//lyrics/postmalone/upthere.html',\n",
       " 'https://www.azlyrics.com//lyrics/postmalone/yourstrulyaustinpost.html',\n",
       " 'https://www.azlyrics.com//lyrics/postmalone/leave.html',\n",
       " 'https://www.azlyrics.com//lyrics/postmalone/hitthishard.html',\n",
       " 'https://www.azlyrics.com//lyrics/postmalone/moneymademedoit.html',\n",
       " 'https://www.azlyrics.com//lyrics/postmalone/feelingwhitney.html',\n",
       " 'https://www.azlyrics.com//lyrics/postmalone/paranoid.html',\n",
       " 'https://www.azlyrics.com//lyrics/postmalone/spoilmynight.html',\n",
       " 'https://www.azlyrics.com//lyrics/postmalone/richsad.html',\n",
       " 'https://www.azlyrics.com//lyrics/postmalone/zackandcodeine.html',\n",
       " 'https://www.azlyrics.com//lyrics/postmalone/takinshots.html',\n",
       " 'https://www.azlyrics.com//lyrics/postmalone/rockstar.html',\n",
       " 'https://www.azlyrics.com//lyrics/postmalone/overnow.html',\n",
       " 'https://www.azlyrics.com//lyrics/postmalone/psycho.html',\n",
       " 'https://www.azlyrics.com//lyrics/postmalone/betternow.html',\n",
       " 'https://www.azlyrics.com//lyrics/postmalone/ballforme.html',\n",
       " 'https://www.azlyrics.com//lyrics/postmalone/otherside.html',\n",
       " 'https://www.azlyrics.com//lyrics/postmalone/stay.html',\n",
       " 'https://www.azlyrics.com//lyrics/postmalone/blameitonme.html',\n",
       " 'https://www.azlyrics.com//lyrics/postmalone/samebitches.html',\n",
       " 'https://www.azlyrics.com//lyrics/postmalone/jonestowninterlude.html',\n",
       " 'https://www.azlyrics.com//lyrics/postmalone/92explorer.html',\n",
       " 'https://www.azlyrics.com//lyrics/postmalone/candypaint.html',\n",
       " 'https://www.azlyrics.com//lyrics/postmalone/sugarwraith.html',\n",
       " 'https://www.azlyrics.com//lyrics/postmalone/hollywoodsbleeding.html',\n",
       " 'https://www.azlyrics.com//lyrics/postmalone/sainttropez.html',\n",
       " 'https://www.azlyrics.com//lyrics/postmalone/enemies.html',\n",
       " 'https://www.azlyrics.com//lyrics/postmalone/allergic.html',\n",
       " 'https://www.azlyrics.com//lyrics/postmalone/athousandbadtimes.html',\n",
       " 'https://www.azlyrics.com//lyrics/postmalone/circles.html',\n",
       " 'https://www.azlyrics.com//lyrics/postmalone/dieforme.html',\n",
       " 'https://www.azlyrics.com//lyrics/postmalone/ontheroad.html',\n",
       " 'https://www.azlyrics.com//lyrics/postmalone/takewhatyouwant.html',\n",
       " 'https://www.azlyrics.com//lyrics/postmalone/imgonnabe.html',\n",
       " 'https://www.azlyrics.com//lyrics/postmalone/staringatthesun.html',\n",
       " 'https://www.azlyrics.com//lyrics/postmalone/sunflower.html',\n",
       " 'https://www.azlyrics.com//lyrics/postmalone/internet.html',\n",
       " 'https://www.azlyrics.com//lyrics/postmalone/goodbyes.html',\n",
       " 'https://www.azlyrics.com//lyrics/postmalone/myself.html',\n",
       " 'https://www.azlyrics.com//lyrics/postmalone/iknow.html',\n",
       " 'https://www.azlyrics.com//lyrics/postmalone/wow.html',\n",
       " 'https://www.azlyrics.com//lyrics/postmalone/mood.html',\n",
       " 'https://www.azlyrics.com//lyrics/postmalone/boybandz.html',\n",
       " 'https://www.azlyrics.com//lyrics/postmalone/cameup.html',\n",
       " 'https://www.azlyrics.com//lyrics/postmalone/congratulationsremix.html',\n",
       " 'https://www.azlyrics.com//lyrics/postmalone/fucktheinternet.html',\n",
       " 'https://www.azlyrics.com//lyrics/postmalone/holyfield.html',\n",
       " 'https://www.azlyrics.com//lyrics/postmalone/magic.html',\n",
       " 'https://www.azlyrics.com//lyrics/postmalone/ongodremix.html',\n",
       " 'https://www.azlyrics.com//lyrics/postmalone/rockstarlatinremix.html',\n",
       " 'https://www.azlyrics.com//lyrics/postmalone/santafe.html',\n",
       " 'https://www.azlyrics.com//lyrics/postmalone/squad.html',\n",
       " 'https://www.azlyrics.com//lyrics/postmalone/sunflowerremix.html',\n",
       " 'https://www.azlyrics.com//lyrics/postmalone/tear.html',\n",
       " 'https://www.azlyrics.com//lyrics/postmalone/thatsit.html',\n",
       " 'https://www.azlyrics.com//lyrics/postmalone/whatsup.html',\n",
       " 'https://www.azlyrics.com//lyrics/postmalone/whiteiversonremix.html',\n",
       " 'https://www.azlyrics.com//lyrics/postmalone/whydontyouloveme.html',\n",
       " 'https://www.azlyrics.com//lyrics/postmalone/wowremix.html']"
      ]
     },
     "execution_count": 56,
     "metadata": {},
     "output_type": "execute_result"
    }
   ],
   "source": [
    "links"
   ]
  },
  {
   "cell_type": "markdown",
   "metadata": {},
   "source": [
    "# THIS IS IT "
   ]
  },
  {
   "cell_type": "code",
   "execution_count": 15,
   "metadata": {},
   "outputs": [],
   "source": [
    "def get_letter_links(website_url):\n",
    "    soup = BeautifulSoup(requests.get(website_url).content, 'html.parser') #get that shit\n",
    "    links = []\n",
    "    home_url = \"https:\"\n",
    "    for each in soup.find_all('a'):\n",
    "        links.append(home_url + each.get(\"href\")) #store that shit\n",
    "    return links[1:28] #gets only nav links, return that shit"
   ]
  },
  {
   "cell_type": "markdown",
   "metadata": {},
   "source": [
    "# TEST OF IT"
   ]
  },
  {
   "cell_type": "code",
   "execution_count": 17,
   "metadata": {},
   "outputs": [
    {
     "data": {
      "text/plain": [
       "['https://www.azlyrics.com/a.html',\n",
       " 'https://www.azlyrics.com/b.html',\n",
       " 'https://www.azlyrics.com/c.html',\n",
       " 'https://www.azlyrics.com/d.html',\n",
       " 'https://www.azlyrics.com/e.html',\n",
       " 'https://www.azlyrics.com/f.html',\n",
       " 'https://www.azlyrics.com/g.html',\n",
       " 'https://www.azlyrics.com/h.html',\n",
       " 'https://www.azlyrics.com/i.html',\n",
       " 'https://www.azlyrics.com/j.html',\n",
       " 'https://www.azlyrics.com/k.html',\n",
       " 'https://www.azlyrics.com/l.html',\n",
       " 'https://www.azlyrics.com/m.html',\n",
       " 'https://www.azlyrics.com/n.html',\n",
       " 'https://www.azlyrics.com/o.html',\n",
       " 'https://www.azlyrics.com/p.html',\n",
       " 'https://www.azlyrics.com/q.html',\n",
       " 'https://www.azlyrics.com/r.html',\n",
       " 'https://www.azlyrics.com/s.html',\n",
       " 'https://www.azlyrics.com/t.html',\n",
       " 'https://www.azlyrics.com/u.html',\n",
       " 'https://www.azlyrics.com/v.html',\n",
       " 'https://www.azlyrics.com/w.html',\n",
       " 'https://www.azlyrics.com/x.html',\n",
       " 'https://www.azlyrics.com/y.html',\n",
       " 'https://www.azlyrics.com/z.html',\n",
       " 'https://www.azlyrics.com/19.html']"
      ]
     },
     "execution_count": 17,
     "metadata": {},
     "output_type": "execute_result"
    }
   ],
   "source": [
    "website_url = 'https://www.azlyrics.com/'\n",
    "\n",
    "test = get_letter_links(website_url)\n",
    "test"
   ]
  },
  {
   "cell_type": "code",
   "execution_count": 24,
   "metadata": {},
   "outputs": [
    {
     "data": {
      "text/plain": [
       "534"
      ]
     },
     "execution_count": 24,
     "metadata": {},
     "output_type": "execute_result"
    }
   ],
   "source": [
    "len(test)"
   ]
  },
  {
   "cell_type": "code",
   "execution_count": null,
   "metadata": {},
   "outputs": [],
   "source": []
  }
 ],
 "metadata": {
  "kernelspec": {
   "display_name": "Python 3",
   "language": "python",
   "name": "python3"
  },
  "language_info": {
   "codemirror_mode": {
    "name": "ipython",
    "version": 3
   },
   "file_extension": ".py",
   "mimetype": "text/x-python",
   "name": "python",
   "nbconvert_exporter": "python",
   "pygments_lexer": "ipython3",
   "version": "3.7.3"
  }
 },
 "nbformat": 4,
 "nbformat_minor": 2
}
