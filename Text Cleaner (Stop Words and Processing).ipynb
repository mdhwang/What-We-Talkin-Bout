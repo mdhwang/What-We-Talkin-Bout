{
 "cells": [
  {
   "cell_type": "code",
   "execution_count": 34,
   "metadata": {},
   "outputs": [],
   "source": [
    "import json"
   ]
  },
  {
   "cell_type": "code",
   "execution_count": 36,
   "metadata": {},
   "outputs": [],
   "source": [
    "import nltk\n",
    "from nltk.corpus import stopwords\n",
    "staph = stopwords.words('english')\n",
    "staph.append(\"like\")\n",
    "staph.append(\"got\")\n",
    "staph.append(\"get\")\n",
    "staph.append(\"know\")\n",
    "staph.append(\"aint\")\n",
    "staph.append(\"dont\")\n",
    "staph.append(\"go\")"
   ]
  },
  {
   "cell_type": "code",
   "execution_count": 186,
   "metadata": {},
   "outputs": [],
   "source": [
    "path = \"/Users/matthewhwang/Galvanize/Capstone1/Data/Discographies/_Mastered_Cleaned/Snoop Dogg_Master_Discography_Cleaned.txt\""
   ]
  },
  {
   "cell_type": "code",
   "execution_count": 187,
   "metadata": {},
   "outputs": [],
   "source": [
    "with open(path, 'r') as f:\n",
    "    contents = json.load(f)[\"Discography\"]\n",
    "    all_words = []\n",
    "    for each in contents:\n",
    "        for words in each[\"lyrics\"].split():\n",
    "            all_words.append(words.lower())\n",
    "    "
   ]
  },
  {
   "cell_type": "code",
   "execution_count": 188,
   "metadata": {},
   "outputs": [
    {
     "data": {
      "text/plain": [
       "232709"
      ]
     },
     "execution_count": 188,
     "metadata": {},
     "output_type": "execute_result"
    }
   ],
   "source": [
    "len(all_words)"
   ]
  },
  {
   "cell_type": "code",
   "execution_count": 189,
   "metadata": {},
   "outputs": [],
   "source": [
    "reduced = [word for word in all_words if word not in staph]"
   ]
  },
  {
   "cell_type": "code",
   "execution_count": 190,
   "metadata": {},
   "outputs": [
    {
     "data": {
      "text/plain": [
       "120491"
      ]
     },
     "execution_count": 190,
     "metadata": {},
     "output_type": "execute_result"
    }
   ],
   "source": [
    "len(reduced)"
   ]
  },
  {
   "cell_type": "code",
   "execution_count": 191,
   "metadata": {},
   "outputs": [
    {
     "data": {
      "text/html": [
       "<div>\n",
       "<style scoped>\n",
       "    .dataframe tbody tr th:only-of-type {\n",
       "        vertical-align: middle;\n",
       "    }\n",
       "\n",
       "    .dataframe tbody tr th {\n",
       "        vertical-align: top;\n",
       "    }\n",
       "\n",
       "    .dataframe thead th {\n",
       "        text-align: right;\n",
       "    }\n",
       "</style>\n",
       "<table border=\"1\" class=\"dataframe\">\n",
       "  <thead>\n",
       "    <tr style=\"text-align: right;\">\n",
       "      <th></th>\n",
       "      <th>Count</th>\n",
       "    </tr>\n",
       "    <tr>\n",
       "      <th>Word</th>\n",
       "      <th></th>\n",
       "    </tr>\n",
       "  </thead>\n",
       "  <tbody>\n",
       "    <tr>\n",
       "      <th>im</th>\n",
       "      <td>2566</td>\n",
       "    </tr>\n",
       "    <tr>\n",
       "      <th>nigga</th>\n",
       "      <td>1425</td>\n",
       "    </tr>\n",
       "    <tr>\n",
       "      <th>yeah</th>\n",
       "      <td>1094</td>\n",
       "    </tr>\n",
       "    <tr>\n",
       "      <th>shit</th>\n",
       "      <td>921</td>\n",
       "    </tr>\n",
       "    <tr>\n",
       "      <th>one</th>\n",
       "      <td>849</td>\n",
       "    </tr>\n",
       "  </tbody>\n",
       "</table>\n",
       "</div>"
      ],
      "text/plain": [
       "       Count\n",
       "Word        \n",
       "im      2566\n",
       "nigga   1425\n",
       "yeah    1094\n",
       "shit     921\n",
       "one      849"
      ]
     },
     "execution_count": 191,
     "metadata": {},
     "output_type": "execute_result"
    }
   ],
   "source": [
    "import pandas as pd\n",
    "df = pd.DataFrame(reduced)\n",
    "df.columns = [\"Word\"]\n",
    "df['Count'] = 1\n",
    "g = df.groupby(\"Word\")\n",
    "new = g.count().sort_values(\"Count\",ascending=False)\n",
    "new.head()"
   ]
  },
  {
   "cell_type": "code",
   "execution_count": 192,
   "metadata": {},
   "outputs": [],
   "source": [
    "new.to_csv(r'/Users/matthewhwang/Galvanize/Capstone1/Data/Processed/Snoop Dogg_TopWords.csv')"
   ]
  },
  {
   "cell_type": "code",
   "execution_count": 193,
   "metadata": {},
   "outputs": [],
   "source": [
    "hello = pd.DataFrame(contents)"
   ]
  },
  {
   "cell_type": "code",
   "execution_count": 194,
   "metadata": {},
   "outputs": [],
   "source": [
    "hello[\"words per track\"] = hello[\"lyrics\"].apply(lambda x: len(x.split()))"
   ]
  },
  {
   "cell_type": "code",
   "execution_count": 195,
   "metadata": {},
   "outputs": [],
   "source": [
    "hello[\"avg length of word\"] = hello[\"lyrics\"].apply(lambda x: len(x.strip())) / hello[\"words per track\"] "
   ]
  },
  {
   "cell_type": "code",
   "execution_count": 196,
   "metadata": {},
   "outputs": [
    {
     "data": {
      "text/html": [
       "<div>\n",
       "<style scoped>\n",
       "    .dataframe tbody tr th:only-of-type {\n",
       "        vertical-align: middle;\n",
       "    }\n",
       "\n",
       "    .dataframe tbody tr th {\n",
       "        vertical-align: top;\n",
       "    }\n",
       "\n",
       "    .dataframe thead th {\n",
       "        text-align: right;\n",
       "    }\n",
       "</style>\n",
       "<table border=\"1\" class=\"dataframe\">\n",
       "  <thead>\n",
       "    <tr style=\"text-align: right;\">\n",
       "      <th></th>\n",
       "      <th>artist</th>\n",
       "      <th>lyrics</th>\n",
       "      <th>track</th>\n",
       "      <th>words per track</th>\n",
       "      <th>avg length of word</th>\n",
       "    </tr>\n",
       "  </thead>\n",
       "  <tbody>\n",
       "    <tr>\n",
       "      <th>0</th>\n",
       "      <td>snoopdogg</td>\n",
       "      <td>So Friday I went to see DJ Snoopadelic D...</td>\n",
       "      <td>littlesquareubitchu</td>\n",
       "      <td>294</td>\n",
       "      <td>6.884354</td>\n",
       "    </tr>\n",
       "    <tr>\n",
       "      <th>1</th>\n",
       "      <td>snoopdogg</td>\n",
       "      <td>RJ             ...</td>\n",
       "      <td>ventalation</td>\n",
       "      <td>701</td>\n",
       "      <td>6.154066</td>\n",
       "    </tr>\n",
       "    <tr>\n",
       "      <th>2</th>\n",
       "      <td>snoopdogg</td>\n",
       "      <td>Last but not le...</td>\n",
       "      <td>iwannathankme</td>\n",
       "      <td>658</td>\n",
       "      <td>6.089666</td>\n",
       "    </tr>\n",
       "    <tr>\n",
       "      <th>3</th>\n",
       "      <td>jacquees</td>\n",
       "      <td>It go one time ...</td>\n",
       "      <td>1time</td>\n",
       "      <td>748</td>\n",
       "      <td>6.453209</td>\n",
       "    </tr>\n",
       "    <tr>\n",
       "      <th>4</th>\n",
       "      <td>snoopdogg</td>\n",
       "      <td>get your ass over the...</td>\n",
       "      <td>3hosfortheholidays</td>\n",
       "      <td>280</td>\n",
       "      <td>6.885714</td>\n",
       "    </tr>\n",
       "    <tr>\n",
       "      <th>5</th>\n",
       "      <td>snoopdogg</td>\n",
       "      <td>High speed chase 405 is the freeway     ...</td>\n",
       "      <td>backup</td>\n",
       "      <td>578</td>\n",
       "      <td>6.935986</td>\n",
       "    </tr>\n",
       "    <tr>\n",
       "      <th>6</th>\n",
       "      <td>snoopdogg</td>\n",
       "      <td>I can take you ...</td>\n",
       "      <td>celebrate</td>\n",
       "      <td>412</td>\n",
       "      <td>7.036408</td>\n",
       "    </tr>\n",
       "    <tr>\n",
       "      <th>7</th>\n",
       "      <td>snoopdogg</td>\n",
       "      <td>...</td>\n",
       "      <td>cripn4life</td>\n",
       "      <td>510</td>\n",
       "      <td>6.825490</td>\n",
       "    </tr>\n",
       "    <tr>\n",
       "      <th>8</th>\n",
       "      <td>snoopdogg</td>\n",
       "      <td>I wanna see you working baby you’re my d...</td>\n",
       "      <td>dirtydancer</td>\n",
       "      <td>501</td>\n",
       "      <td>6.602794</td>\n",
       "    </tr>\n",
       "    <tr>\n",
       "      <th>9</th>\n",
       "      <td>snoopdogg</td>\n",
       "      <td>I know you gonn...</td>\n",
       "      <td>doggfatherremix</td>\n",
       "      <td>751</td>\n",
       "      <td>6.922770</td>\n",
       "    </tr>\n",
       "    <tr>\n",
       "      <th>10</th>\n",
       "      <td>snoopdogg</td>\n",
       "      <td>Spin around ma ...</td>\n",
       "      <td>dropitlikeitshotremix</td>\n",
       "      <td>503</td>\n",
       "      <td>6.634195</td>\n",
       "    </tr>\n",
       "    <tr>\n",
       "      <th>11</th>\n",
       "      <td>snoopdogg</td>\n",
       "      <td>Nigga you young...</td>\n",
       "      <td>eastsideparty</td>\n",
       "      <td>770</td>\n",
       "      <td>6.579221</td>\n",
       "    </tr>\n",
       "    <tr>\n",
       "      <th>12</th>\n",
       "      <td>snoopdogg</td>\n",
       "      <td>These are the tales the freaky tales    ...</td>\n",
       "      <td>freakytales</td>\n",
       "      <td>614</td>\n",
       "      <td>5.889251</td>\n",
       "    </tr>\n",
       "    <tr>\n",
       "      <th>13</th>\n",
       "      <td>snoopdogg</td>\n",
       "      <td>Yeah Anotha Dog...</td>\n",
       "      <td>gangstamove</td>\n",
       "      <td>749</td>\n",
       "      <td>6.611482</td>\n",
       "    </tr>\n",
       "    <tr>\n",
       "      <th>14</th>\n",
       "      <td>snoopdogg</td>\n",
       "      <td>No more wrong a...</td>\n",
       "      <td>grateful</td>\n",
       "      <td>430</td>\n",
       "      <td>6.539535</td>\n",
       "    </tr>\n",
       "    <tr>\n",
       "      <th>15</th>\n",
       "      <td>snoopdogg</td>\n",
       "      <td>Da real killas            Gorillas      ...</td>\n",
       "      <td>heavyhittas</td>\n",
       "      <td>544</td>\n",
       "      <td>6.290441</td>\n",
       "    </tr>\n",
       "    <tr>\n",
       "      <th>16</th>\n",
       "      <td>snoopdogg</td>\n",
       "      <td>Hey yo Soopafly...</td>\n",
       "      <td>hooked</td>\n",
       "      <td>513</td>\n",
       "      <td>6.725146</td>\n",
       "    </tr>\n",
       "    <tr>\n",
       "      <th>17</th>\n",
       "      <td>snoopdogg</td>\n",
       "      <td>Man I had a crazy crazy dream dogg      ...</td>\n",
       "      <td>hoopdreamshegotgame</td>\n",
       "      <td>634</td>\n",
       "      <td>5.946372</td>\n",
       "    </tr>\n",
       "    <tr>\n",
       "      <th>18</th>\n",
       "      <td>snoopdogg</td>\n",
       "      <td>Right about now...</td>\n",
       "      <td>iwannarockinterstatetraffickingremix</td>\n",
       "      <td>852</td>\n",
       "      <td>6.475352</td>\n",
       "    </tr>\n",
       "    <tr>\n",
       "      <th>19</th>\n",
       "      <td>snoopdogg</td>\n",
       "      <td>You know Im tun...</td>\n",
       "      <td>imfromlongbeach</td>\n",
       "      <td>432</td>\n",
       "      <td>6.398148</td>\n",
       "    </tr>\n",
       "  </tbody>\n",
       "</table>\n",
       "</div>"
      ],
      "text/plain": [
       "       artist                                             lyrics  \\\n",
       "0   snoopdogg        So Friday I went to see DJ Snoopadelic D...   \n",
       "1   snoopdogg                                 RJ             ...   \n",
       "2   snoopdogg                                 Last but not le...   \n",
       "3    jacquees                                 It go one time ...   \n",
       "4   snoopdogg                           get your ass over the...   \n",
       "5   snoopdogg        High speed chase 405 is the freeway     ...   \n",
       "6   snoopdogg                                 I can take you ...   \n",
       "7   snoopdogg                                                ...   \n",
       "8   snoopdogg        I wanna see you working baby you’re my d...   \n",
       "9   snoopdogg                                 I know you gonn...   \n",
       "10  snoopdogg                                 Spin around ma ...   \n",
       "11  snoopdogg                                 Nigga you young...   \n",
       "12  snoopdogg        These are the tales the freaky tales    ...   \n",
       "13  snoopdogg                                 Yeah Anotha Dog...   \n",
       "14  snoopdogg                                 No more wrong a...   \n",
       "15  snoopdogg        Da real killas            Gorillas      ...   \n",
       "16  snoopdogg                                 Hey yo Soopafly...   \n",
       "17  snoopdogg        Man I had a crazy crazy dream dogg      ...   \n",
       "18  snoopdogg                                 Right about now...   \n",
       "19  snoopdogg                                 You know Im tun...   \n",
       "\n",
       "                                   track  words per track  avg length of word  \n",
       "0                    littlesquareubitchu              294            6.884354  \n",
       "1                            ventalation              701            6.154066  \n",
       "2                          iwannathankme              658            6.089666  \n",
       "3                                  1time              748            6.453209  \n",
       "4                     3hosfortheholidays              280            6.885714  \n",
       "5                                 backup              578            6.935986  \n",
       "6                              celebrate              412            7.036408  \n",
       "7                             cripn4life              510            6.825490  \n",
       "8                            dirtydancer              501            6.602794  \n",
       "9                        doggfatherremix              751            6.922770  \n",
       "10                 dropitlikeitshotremix              503            6.634195  \n",
       "11                         eastsideparty              770            6.579221  \n",
       "12                           freakytales              614            5.889251  \n",
       "13                           gangstamove              749            6.611482  \n",
       "14                              grateful              430            6.539535  \n",
       "15                           heavyhittas              544            6.290441  \n",
       "16                                hooked              513            6.725146  \n",
       "17                   hoopdreamshegotgame              634            5.946372  \n",
       "18  iwannarockinterstatetraffickingremix              852            6.475352  \n",
       "19                       imfromlongbeach              432            6.398148  "
      ]
     },
     "execution_count": 196,
     "metadata": {},
     "output_type": "execute_result"
    }
   ],
   "source": [
    "hello.head(20)"
   ]
  },
  {
   "cell_type": "code",
   "execution_count": 197,
   "metadata": {},
   "outputs": [],
   "source": [
    "new.to_csv(r'/Users/matthewhwang/Galvanize/Capstone1/Data/Processed/Snoop Dogg_DF.csv')"
   ]
  },
  {
   "cell_type": "code",
   "execution_count": null,
   "metadata": {},
   "outputs": [],
   "source": []
  }
 ],
 "metadata": {
  "kernelspec": {
   "display_name": "Python 3",
   "language": "python",
   "name": "python3"
  },
  "language_info": {
   "codemirror_mode": {
    "name": "ipython",
    "version": 3
   },
   "file_extension": ".py",
   "mimetype": "text/x-python",
   "name": "python",
   "nbconvert_exporter": "python",
   "pygments_lexer": "ipython3",
   "version": "3.7.3"
  }
 },
 "nbformat": 4,
 "nbformat_minor": 2
}
