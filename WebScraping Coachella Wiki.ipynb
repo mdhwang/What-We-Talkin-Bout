{
 "cells": [
  {
   "cell_type": "code",
   "execution_count": 4,
   "metadata": {},
   "outputs": [],
   "source": [
    "import copy\n",
    "import pandas as pd\n",
    "\n",
    "# Requests sends and recieves HTTP requests.\n",
    "import requests\n",
    "\n",
    "# Beautiful Soup parses HTML documents in python.\n",
    "from bs4 import BeautifulSoup"
   ]
  },
  {
   "cell_type": "code",
   "execution_count": 5,
   "metadata": {},
   "outputs": [
    {
     "data": {
      "text/plain": [
       "200"
      ]
     },
     "execution_count": 5,
     "metadata": {},
     "output_type": "execute_result"
    }
   ],
   "source": [
    "web_url = 'https://en.wikipedia.org/wiki/Coachella_Festival_line-ups'\n",
    "r = requests.get(web_url)\n",
    "r.status_code"
   ]
  },
  {
   "cell_type": "code",
   "execution_count": 6,
   "metadata": {},
   "outputs": [],
   "source": [
    "soup = BeautifulSoup(r.content, \"html.parser\")"
   ]
  },
  {
   "cell_type": "code",
   "execution_count": 7,
   "metadata": {
    "scrolled": true
   },
   "outputs": [
    {
     "data": {
      "text/plain": [
       "<table class=\"wikitable\">\n",
       "<tbody><tr>\n",
       "<th>Main Stage\n",
       "</th>\n",
       "<th>Outdoor Theatre\n",
       "</th>\n",
       "<th>Mojave Tent\n",
       "</th>\n",
       "<th>Sahara Tent\n",
       "</th>\n",
       "<th>Gobi Tent\n",
       "</th></tr>\n",
       "<tr valign=\"top\">\n",
       "<td>\n",
       "<ul><li><b><a href=\"/wiki/Beck\" title=\"Beck\">Beck</a></b></li>\n",
       "<li><a href=\"/wiki/The_Chemical_Brothers\" title=\"The Chemical Brothers\">The Chemical Brothers</a></li>\n",
       "<li>The Freemen</li>\n",
       "<li><a href=\"/wiki/Morrissey\" title=\"Morrissey\">Morrissey</a></li>\n",
       "<li><a href=\"/wiki/Perry_Farrell\" title=\"Perry Farrell\">Perry Farrell</a></li>\n",
       "<li><a href=\"/wiki/Medeski_Martin_%26_Wood\" title=\"Medeski Martin &amp; Wood\">Medeski Martin &amp; Wood</a></li>\n",
       "<li><a class=\"mw-redirect\" href=\"/wiki/Bis_(band)\" title=\"Bis (band)\">Bis</a></li>\n",
       "<li><a href=\"/wiki/A_Perfect_Circle\" title=\"A Perfect Circle\">A Perfect Circle</a></li></ul>\n",
       "</td>\n",
       "<td>\n",
       "<ul><li><a href=\"/wiki/Underworld_(band)\" title=\"Underworld (band)\">Underworld</a></li>\n",
       "<li><a href=\"/wiki/Spiritualized\" title=\"Spiritualized\">Spiritualized</a></li>\n",
       "<li>Life On Repeat</li>\n",
       "<li><a href=\"/wiki/Art_of_Noise\" title=\"Art of Noise\">Art of Noise</a></li>\n",
       "<li><a href=\"/wiki/Modest_Mouse\" title=\"Modest Mouse\">Modest Mouse</a></li>\n",
       "<li><a href=\"/wiki/Super_Furry_Animals\" title=\"Super Furry Animals\">Super Furry Animals</a></li>\n",
       "<li><a href=\"/wiki/IQU\" title=\"IQU\">IQU</a></li>\n",
       "<li><a href=\"/wiki/The_Bicycle_Thief_(band)\" title=\"The Bicycle Thief (band)\">The Bicycle Thief</a></li>\n",
       "<li><a class=\"mw-redirect\" href=\"/wiki/At_the_Drive_In\" title=\"At the Drive In\">At the Drive In</a></li></ul>\n",
       "</td>\n",
       "<td>\n",
       "<ul><li><a href=\"/wiki/DJ_Rap\" title=\"DJ Rap\">DJ Rap</a></li>\n",
       "<li>DJ Softy</li>\n",
       "<li><a href=\"/wiki/Jurassic_5\" title=\"Jurassic 5\">Jurassic 5</a></li>\n",
       "<li><a href=\"/wiki/Breakbeat_Era\" title=\"Breakbeat Era\">Breakbeat Era</a> with <a href=\"/wiki/Roni_Size\" title=\"Roni Size\">Roni Size</a>, <a href=\"/wiki/DJ_Die\" title=\"DJ Die\">DJ Die</a>, <a href=\"/wiki/Dynamite_MC\" title=\"Dynamite MC\">MC Dynamite</a></li>\n",
       "<li><a href=\"/wiki/Cornelius_(musician)\" title=\"Cornelius (musician)\">Cornelius</a></li>\n",
       "<li>Simply Jeff</li>\n",
       "<li><a href=\"/wiki/The_Wiseguys\" title=\"The Wiseguys\">The Wiseguys</a></li>\n",
       "<li><a href=\"/wiki/Christopher_Lawrence_(DJ)\" title=\"Christopher Lawrence (DJ)\">Christopher Lawrence</a></li></ul>\n",
       "</td>\n",
       "<td>\n",
       "<ul><li>Bassbin Twins (Live)</li>\n",
       "<li><a href=\"/wiki/Richie_Hawtin\" title=\"Richie Hawtin\">Richie Hawtin</a></li>\n",
       "<li><a href=\"/wiki/Juan_Atkins\" title=\"Juan Atkins\">Juan Atkins</a></li>\n",
       "<li><a href=\"/wiki/Derrick_May_(musician)\" title=\"Derrick May (musician)\">Derrick May</a></li>\n",
       "<li><a href=\"/wiki/Kevin_Saunderson\" title=\"Kevin Saunderson\">Kevin Saunderson</a></li>\n",
       "<li><a href=\"/wiki/Lunatic_Calm\" title=\"Lunatic Calm\">Lunatic Calm</a></li></ul>\n",
       "</td>\n",
       "<td>\n",
       "<ul><li><a href=\"/wiki/DJ_Food\" title=\"DJ Food\">DJ Food</a></li>\n",
       "<li><a href=\"/wiki/Kid_Koala\" title=\"Kid Koala\">Kid Koala</a></li>\n",
       "<li><a href=\"/wiki/Amon_Tobin\" title=\"Amon Tobin\">Amon Tobin</a></li>\n",
       "<li><a href=\"/wiki/Mr._Scruff\" title=\"Mr. Scruff\">Mr. Scruff</a></li>\n",
       "<li><a href=\"/wiki/Mike_Paradinas\" title=\"Mike Paradinas\">µ-Ziq</a></li>\n",
       "<li><a href=\"/wiki/Nightmares_on_Wax\" title=\"Nightmares on Wax\">Nightmares on Wax</a> (DJ Ease)</li>\n",
       "<li><a href=\"/wiki/Ming_(DJ)\" title=\"Ming (DJ)\">Ming (DJ)</a> &amp; <a href=\"/wiki/FS_(musician)\" title=\"FS (musician)\">FS</a></li>\n",
       "<li>Tomas (Umoja HiFi)</li>\n",
       "<li>Mike Fix</li></ul>\n",
       "</td></tr></tbody></table>"
      ]
     },
     "execution_count": 7,
     "metadata": {},
     "output_type": "execute_result"
    }
   ],
   "source": [
    "all_tables = soup.find_all(\"table\", {\"class\": \"wikitable\"})\n",
    "tables = []\n",
    "for each in all_tables:\n",
    "    tables.append(each)\n",
    "    \n",
    "tables[0]"
   ]
  },
  {
   "cell_type": "code",
   "execution_count": 8,
   "metadata": {},
   "outputs": [
    {
     "data": {
      "text/plain": [
       "5"
      ]
     },
     "execution_count": 8,
     "metadata": {},
     "output_type": "execute_result"
    }
   ],
   "source": [
    "stages = str(tables[0].contents[1])\n",
    "num_stages = stages.count(\"<th>\")\n",
    "num_stages"
   ]
  },
  {
   "cell_type": "code",
   "execution_count": 120,
   "metadata": {},
   "outputs": [
    {
     "data": {
      "text/plain": [
       "['Main Stage', 'Outdoor Theatre', 'Mojave Tent', 'Sahara Tent', 'Gobi Tent']"
      ]
     },
     "execution_count": 120,
     "metadata": {},
     "output_type": "execute_result"
    }
   ],
   "source": [
    "stages_names = []\n",
    "for each in stages.split(\"<th>\"):\n",
    "    stages_names.append(each.split(\"</th>\")[0][:-1])\n",
    "stages_names.pop(0)\n",
    "stages_names"
   ]
  },
  {
   "cell_type": "code",
   "execution_count": 142,
   "metadata": {},
   "outputs": [
    {
     "data": {
      "text/plain": [
       "['Beck',\n",
       " 'The Chemical Brothers',\n",
       " 'Morrissey',\n",
       " 'Perry Farrell',\n",
       " 'Medeski Martin &amp; Wood',\n",
       " 'Bis (band)',\n",
       " 'A Perfect Circle']"
      ]
     },
     "execution_count": 142,
     "metadata": {},
     "output_type": "execute_result"
    }
   ],
   "source": [
    "stage_artists = []\n",
    "for each in stages.split(\"<ul>\"):\n",
    "    stage_artists.append(each.split(\"</ul>\")[0])\n",
    "a = stage_artists.pop(0)\n",
    "a = stage_artists[0].split('title=\"')\n",
    "a.pop(0)\n",
    "artist=[]\n",
    "for each in a:\n",
    "    artist.append(each.split('\">')[0])\n",
    "artist"
   ]
  },
  {
   "cell_type": "code",
   "execution_count": 151,
   "metadata": {},
   "outputs": [
    {
     "data": {
      "text/plain": [
       "[['Beck',\n",
       "  'The Chemical Brothers',\n",
       "  'Morrissey',\n",
       "  'Perry Farrell',\n",
       "  'Medeski Martin &amp; Wood',\n",
       "  'Bis (band)',\n",
       "  'A Perfect Circle'],\n",
       " ['Underworld (band)',\n",
       "  'Spiritualized',\n",
       "  'Art of Noise',\n",
       "  'Modest Mouse',\n",
       "  'Super Furry Animals',\n",
       "  'IQU',\n",
       "  'The Bicycle Thief (band)',\n",
       "  'At the Drive In'],\n",
       " ['DJ Rap',\n",
       "  'Jurassic 5',\n",
       "  'Breakbeat Era',\n",
       "  'Roni Size',\n",
       "  'DJ Die',\n",
       "  'Dynamite MC',\n",
       "  'Cornelius (musician)',\n",
       "  'The Wiseguys',\n",
       "  'Christopher Lawrence (DJ)'],\n",
       " ['Richie Hawtin',\n",
       "  'Juan Atkins',\n",
       "  'Derrick May (musician)',\n",
       "  'Kevin Saunderson',\n",
       "  'Lunatic Calm'],\n",
       " ['DJ Food',\n",
       "  'Kid Koala',\n",
       "  'Amon Tobin',\n",
       "  'Mr. Scruff',\n",
       "  'Mike Paradinas',\n",
       "  'Nightmares on Wax',\n",
       "  'Ming (DJ)',\n",
       "  'FS (musician)']]"
      ]
     },
     "execution_count": 151,
     "metadata": {},
     "output_type": "execute_result"
    }
   ],
   "source": [
    "lol = []\n",
    "stage_artists = []\n",
    "for each in stages.split(\"<ul>\"):\n",
    "    stage_artists.append(each.split(\"</ul>\")[0])\n",
    "stage_artists.pop(0)\n",
    "\n",
    "for each in stage_artists:\n",
    "    data = each.split('title=\"')\n",
    "    data.pop(0)\n",
    "    artist=[]\n",
    "    for each in data:\n",
    "        artist.append(each.split('\">')[0])\n",
    "    lol.append(artist)\n",
    "lol"
   ]
  },
  {
   "cell_type": "code",
   "execution_count": 154,
   "metadata": {},
   "outputs": [
    {
     "data": {
      "text/plain": [
       "{'Main Stage': ['Beck',\n",
       "  'The Chemical Brothers',\n",
       "  'Morrissey',\n",
       "  'Perry Farrell',\n",
       "  'Medeski Martin &amp; Wood',\n",
       "  'Bis (band)',\n",
       "  'A Perfect Circle'],\n",
       " 'Outdoor Theatre': ['Underworld (band)',\n",
       "  'Spiritualized',\n",
       "  'Art of Noise',\n",
       "  'Modest Mouse',\n",
       "  'Super Furry Animals',\n",
       "  'IQU',\n",
       "  'The Bicycle Thief (band)',\n",
       "  'At the Drive In'],\n",
       " 'Mojave Tent': ['DJ Rap',\n",
       "  'Jurassic 5',\n",
       "  'Breakbeat Era',\n",
       "  'Roni Size',\n",
       "  'DJ Die',\n",
       "  'Dynamite MC',\n",
       "  'Cornelius (musician)',\n",
       "  'The Wiseguys',\n",
       "  'Christopher Lawrence (DJ)'],\n",
       " 'Sahara Tent': ['Richie Hawtin',\n",
       "  'Juan Atkins',\n",
       "  'Derrick May (musician)',\n",
       "  'Kevin Saunderson',\n",
       "  'Lunatic Calm'],\n",
       " 'Gobi Tent': ['DJ Food',\n",
       "  'Kid Koala',\n",
       "  'Amon Tobin',\n",
       "  'Mr. Scruff',\n",
       "  'Mike Paradinas',\n",
       "  'Nightmares on Wax',\n",
       "  'Ming (DJ)',\n",
       "  'FS (musician)']}"
      ]
     },
     "execution_count": 154,
     "metadata": {},
     "output_type": "execute_result"
    }
   ],
   "source": [
    "dict_1999_sat_lineup = dict(zip(stages_names,lol))\n",
    "dict_1999_sat_lineup"
   ]
  },
  {
   "cell_type": "code",
   "execution_count": null,
   "metadata": {},
   "outputs": [],
   "source": []
  }
 ],
 "metadata": {
  "kernelspec": {
   "display_name": "Python 3",
   "language": "python",
   "name": "python3"
  },
  "language_info": {
   "codemirror_mode": {
    "name": "ipython",
    "version": 3
   },
   "file_extension": ".py",
   "mimetype": "text/x-python",
   "name": "python",
   "nbconvert_exporter": "python",
   "pygments_lexer": "ipython3",
   "version": "3.7.3"
  }
 },
 "nbformat": 4,
 "nbformat_minor": 2
}
