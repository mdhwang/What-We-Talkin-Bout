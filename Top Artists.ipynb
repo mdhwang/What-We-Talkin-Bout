{
 "cells": [
  {
   "cell_type": "code",
   "execution_count": 1,
   "metadata": {},
   "outputs": [],
   "source": [
    "WC_spotify = [692848,586439,6848682,289612,212261,90560,2168141,186010,3084248,538891,2716305,13107425,5049895,4455266,1869034,169854,661577,2495924,548580,972886,280146,368011,2125159,928212,3266304]\n",
    "EC_spotify = [1581959,517238,4276986,320953,437374,724620,5494448,865204,1664562,9146704,1034099,467370,1416932,4874065,623063,319555,1471420,374281,437300,1241700,378518,511801,954078,534970,759530]\n",
    "DS_spotify = [316002,157847,1169457,4835400,466483,314378,8249588,448851,134488,340270,239086,1119359,416774,1673630,1354876,477956,115746,2966825,498741,453624,574580,535793,9146704,363421,159493]\n",
    "MW_spotify = [244,3229603,29393199,85747,66,2015123,1368185,422165,83941,1217625,4333818,322229,6516509,357550,513930,19840,536053,1142494,1222346,10259641,398190,74657,839995,1325347,0]"
   ]
  },
  {
   "cell_type": "code",
   "execution_count": 2,
   "metadata": {},
   "outputs": [],
   "source": [
    "WC_artist = ['Nate Dogg',\n",
    " 'Ab-Soul',\n",
    " 'tupac shakur',\n",
    " 'Mack 10',\n",
    " 'Mac Dre',\n",
    " 'Outlawz',\n",
    " 'The Game',\n",
    " 'MC Ren',\n",
    " 'Ice Cube',\n",
    " 'Ice-T',\n",
    " 'Schoolboy Q',\n",
    " 'kendrick lamar',\n",
    " 'Snoop Dogg',\n",
    " 'Dr. Dre',\n",
    " 'YG',\n",
    " 'MC Eiht',\n",
    " 'Jay Rock',\n",
    " 'N.W.A',\n",
    " 'Westside Connection',\n",
    " 'Warren G',\n",
    " 'Kurupt',\n",
    " 'The Dogg Pound',\n",
    " 'Easy E',\n",
    " 'Vince Staples',\n",
    " 'Tyler, the Creator']"
   ]
  },
  {
   "cell_type": "code",
   "execution_count": 4,
   "metadata": {},
   "outputs": [],
   "source": [
    "EC_artist = ['DMX',\n",
    " 'Redman',\n",
    " 'The Notorious B.I.G.',\n",
    " 'KRS-One',\n",
    " 'Ol Dirty Bastard',\n",
    " 'Mos Def',\n",
    " '50 Cent',\n",
    " 'Mobb Deep',\n",
    " 'Nas',\n",
    " 'J. Cole',\n",
    " 'A Tribe Called Quest',\n",
    " 'Gang Starr',\n",
    " 'Wu-Tang Clan',\n",
    " 'Jay-Z',\n",
    " 'Run DMC',\n",
    " 'Raekwon',\n",
    " 'Joey Bada$$',\n",
    " 'Rakim',\n",
    " 'Ghostface Killah',\n",
    " 'Busta Rhymes',\n",
    " 'Big L',\n",
    " 'Public Enemy',\n",
    " 'Method Man',\n",
    " 'Big Pun',\n",
    " 'LL Cool J']"
   ]
  },
  {
   "cell_type": "code",
   "execution_count": 7,
   "metadata": {},
   "outputs": [],
   "source": [
    "DS_artist = ['Mystikal',\n",
    " 'Killer Mike',\n",
    " 'Outkast',\n",
    " '2 Chainz',\n",
    " 'Trick Daddy',\n",
    " 'Project Pat',\n",
    " 'Lil Wayne',\n",
    " 'Underground Kingz',\n",
    " 'André 3000',\n",
    " 'Geto Boys',\n",
    " 'Big Boi',\n",
    " 'yelawolf',\n",
    " 'Scarface',\n",
    " 'Ludacris',\n",
    " 'Young Jeezy',\n",
    " 'Pimp C',\n",
    " 'Goodie Mob',\n",
    " 'T.I.',\n",
    " 'Big K.R.I.T.',\n",
    " 'Bun B',\n",
    " 'Three 6 Mafia',\n",
    " 'Juvenile',\n",
    " 'J. Cole',\n",
    " 'David Banner',\n",
    " 'Eightball & MJG']"
   ]
  },
  {
   "cell_type": "code",
   "execution_count": 8,
   "metadata": {},
   "outputs": [],
   "source": [
    "MW_artist=['Feloni',\n",
    " 'Kid Cudi',\n",
    " 'Eminem',\n",
    " 'Trick-Trick',\n",
    " 'MC Swift',\n",
    " 'Da Brat',\n",
    " 'Tech N9ne',\n",
    " 'Danny Brown',\n",
    " 'Proof',\n",
    " 'Bone Thugs-N-Harmony',\n",
    " 'Chance The Rapper',\n",
    " 'j dilla',\n",
    " 'Big Sean',\n",
    " 'Royce da 59',\n",
    " 'Twista',\n",
    " 'Kuniva',\n",
    " 'Common',\n",
    " 'D12',\n",
    " 'Lupe Fiasco',\n",
    " 'Kanye West',\n",
    " 'Obie Trice',\n",
    " 'Bizarre',\n",
    " 'Bad Meets Evil',\n",
    " 'nelly',\n",
    " 'Kon Artist']"
   ]
  },
  {
   "cell_type": "code",
   "execution_count": 23,
   "metadata": {},
   "outputs": [
    {
     "name": "stdout",
     "output_type": "stream",
     "text": [
      "WC : kendrick lamar\n",
      "EC : J. Cole\n",
      "DS : J. Cole\n",
      "MW : Eminem\n"
     ]
    }
   ],
   "source": [
    "Top_WC = WC_artist[WC_spotify.index(max(WC_spotify))] \n",
    "print(\"WC : \" + Top_WC)\n",
    "Top_EC = EC_artist[EC_spotify.index(max(EC_spotify))] \n",
    "print(\"EC : \" + Top_EC)\n",
    "Top_DS = DS_artist[DS_spotify.index(max(DS_spotify))] \n",
    "print(\"DS : \" + Top_DS)\n",
    "Top_MW = MW_artist[MW_spotify.index(max(MW_spotify))] \n",
    "print(\"MW : \" + Top_MW)"
   ]
  },
  {
   "cell_type": "code",
   "execution_count": 24,
   "metadata": {},
   "outputs": [],
   "source": [
    "import pandas as pd"
   ]
  },
  {
   "cell_type": "code",
   "execution_count": 39,
   "metadata": {},
   "outputs": [
    {
     "data": {
      "text/html": [
       "<div>\n",
       "<style scoped>\n",
       "    .dataframe tbody tr th:only-of-type {\n",
       "        vertical-align: middle;\n",
       "    }\n",
       "\n",
       "    .dataframe tbody tr th {\n",
       "        vertical-align: top;\n",
       "    }\n",
       "\n",
       "    .dataframe thead th {\n",
       "        text-align: right;\n",
       "    }\n",
       "</style>\n",
       "<table border=\"1\" class=\"dataframe\">\n",
       "  <thead>\n",
       "    <tr style=\"text-align: right;\">\n",
       "      <th></th>\n",
       "      <th>Artist</th>\n",
       "      <th>Followers_Spotify</th>\n",
       "    </tr>\n",
       "  </thead>\n",
       "  <tbody>\n",
       "    <tr>\n",
       "      <th>11</th>\n",
       "      <td>kendrick lamar</td>\n",
       "      <td>13107425</td>\n",
       "    </tr>\n",
       "    <tr>\n",
       "      <th>2</th>\n",
       "      <td>tupac shakur</td>\n",
       "      <td>6848682</td>\n",
       "    </tr>\n",
       "    <tr>\n",
       "      <th>12</th>\n",
       "      <td>Snoop Dogg</td>\n",
       "      <td>5049895</td>\n",
       "    </tr>\n",
       "    <tr>\n",
       "      <th>13</th>\n",
       "      <td>Dr. Dre</td>\n",
       "      <td>4455266</td>\n",
       "    </tr>\n",
       "    <tr>\n",
       "      <th>24</th>\n",
       "      <td>Tyler, the Creator</td>\n",
       "      <td>3266304</td>\n",
       "    </tr>\n",
       "  </tbody>\n",
       "</table>\n",
       "</div>"
      ],
      "text/plain": [
       "                Artist  Followers_Spotify\n",
       "11      kendrick lamar           13107425\n",
       "2         tupac shakur            6848682\n",
       "12          Snoop Dogg            5049895\n",
       "13             Dr. Dre            4455266\n",
       "24  Tyler, the Creator            3266304"
      ]
     },
     "execution_count": 39,
     "metadata": {},
     "output_type": "execute_result"
    }
   ],
   "source": [
    "WC = {\"Artist\":WC_artist,\"Followers_Spotify\":WC_spotify}\n",
    "df_wc = pd.DataFrame(WC)\n",
    "df_wc.sort_values(by=[\"Followers_Spotify\"], ascending=False).head()"
   ]
  },
  {
   "cell_type": "code",
   "execution_count": 38,
   "metadata": {},
   "outputs": [
    {
     "data": {
      "text/html": [
       "<div>\n",
       "<style scoped>\n",
       "    .dataframe tbody tr th:only-of-type {\n",
       "        vertical-align: middle;\n",
       "    }\n",
       "\n",
       "    .dataframe tbody tr th {\n",
       "        vertical-align: top;\n",
       "    }\n",
       "\n",
       "    .dataframe thead th {\n",
       "        text-align: right;\n",
       "    }\n",
       "</style>\n",
       "<table border=\"1\" class=\"dataframe\">\n",
       "  <thead>\n",
       "    <tr style=\"text-align: right;\">\n",
       "      <th></th>\n",
       "      <th>Artist</th>\n",
       "      <th>Followers_Spotify</th>\n",
       "    </tr>\n",
       "  </thead>\n",
       "  <tbody>\n",
       "    <tr>\n",
       "      <th>9</th>\n",
       "      <td>J. Cole</td>\n",
       "      <td>9146704</td>\n",
       "    </tr>\n",
       "    <tr>\n",
       "      <th>6</th>\n",
       "      <td>50 Cent</td>\n",
       "      <td>5494448</td>\n",
       "    </tr>\n",
       "    <tr>\n",
       "      <th>13</th>\n",
       "      <td>Jay-Z</td>\n",
       "      <td>4874065</td>\n",
       "    </tr>\n",
       "    <tr>\n",
       "      <th>2</th>\n",
       "      <td>The Notorious B.I.G.</td>\n",
       "      <td>4276986</td>\n",
       "    </tr>\n",
       "    <tr>\n",
       "      <th>8</th>\n",
       "      <td>Nas</td>\n",
       "      <td>1664562</td>\n",
       "    </tr>\n",
       "  </tbody>\n",
       "</table>\n",
       "</div>"
      ],
      "text/plain": [
       "                  Artist  Followers_Spotify\n",
       "9                J. Cole            9146704\n",
       "6                50 Cent            5494448\n",
       "13                 Jay-Z            4874065\n",
       "2   The Notorious B.I.G.            4276986\n",
       "8                    Nas            1664562"
      ]
     },
     "execution_count": 38,
     "metadata": {},
     "output_type": "execute_result"
    }
   ],
   "source": [
    "EC = {\"Artist\":EC_artist,\"Followers_Spotify\":EC_spotify}\n",
    "df_ec = pd.DataFrame(EC)\n",
    "df_ec.sort_values(by=[\"Followers_Spotify\"], ascending=False).head()"
   ]
  },
  {
   "cell_type": "code",
   "execution_count": 40,
   "metadata": {},
   "outputs": [
    {
     "data": {
      "text/html": [
       "<div>\n",
       "<style scoped>\n",
       "    .dataframe tbody tr th:only-of-type {\n",
       "        vertical-align: middle;\n",
       "    }\n",
       "\n",
       "    .dataframe tbody tr th {\n",
       "        vertical-align: top;\n",
       "    }\n",
       "\n",
       "    .dataframe thead th {\n",
       "        text-align: right;\n",
       "    }\n",
       "</style>\n",
       "<table border=\"1\" class=\"dataframe\">\n",
       "  <thead>\n",
       "    <tr style=\"text-align: right;\">\n",
       "      <th></th>\n",
       "      <th>Artist</th>\n",
       "      <th>Followers_Spotify</th>\n",
       "    </tr>\n",
       "  </thead>\n",
       "  <tbody>\n",
       "    <tr>\n",
       "      <th>22</th>\n",
       "      <td>J. Cole</td>\n",
       "      <td>9146704</td>\n",
       "    </tr>\n",
       "    <tr>\n",
       "      <th>6</th>\n",
       "      <td>Lil Wayne</td>\n",
       "      <td>8249588</td>\n",
       "    </tr>\n",
       "    <tr>\n",
       "      <th>3</th>\n",
       "      <td>2 Chainz</td>\n",
       "      <td>4835400</td>\n",
       "    </tr>\n",
       "    <tr>\n",
       "      <th>17</th>\n",
       "      <td>T.I.</td>\n",
       "      <td>2966825</td>\n",
       "    </tr>\n",
       "    <tr>\n",
       "      <th>13</th>\n",
       "      <td>Ludacris</td>\n",
       "      <td>1673630</td>\n",
       "    </tr>\n",
       "  </tbody>\n",
       "</table>\n",
       "</div>"
      ],
      "text/plain": [
       "       Artist  Followers_Spotify\n",
       "22    J. Cole            9146704\n",
       "6   Lil Wayne            8249588\n",
       "3    2 Chainz            4835400\n",
       "17       T.I.            2966825\n",
       "13   Ludacris            1673630"
      ]
     },
     "execution_count": 40,
     "metadata": {},
     "output_type": "execute_result"
    }
   ],
   "source": [
    "DS = {\"Artist\":DS_artist,\"Followers_Spotify\":DS_spotify}\n",
    "df_ds = pd.DataFrame(DS)\n",
    "df_ds.sort_values(by=[\"Followers_Spotify\"], ascending=False).head()"
   ]
  },
  {
   "cell_type": "code",
   "execution_count": 41,
   "metadata": {},
   "outputs": [
    {
     "data": {
      "text/html": [
       "<div>\n",
       "<style scoped>\n",
       "    .dataframe tbody tr th:only-of-type {\n",
       "        vertical-align: middle;\n",
       "    }\n",
       "\n",
       "    .dataframe tbody tr th {\n",
       "        vertical-align: top;\n",
       "    }\n",
       "\n",
       "    .dataframe thead th {\n",
       "        text-align: right;\n",
       "    }\n",
       "</style>\n",
       "<table border=\"1\" class=\"dataframe\">\n",
       "  <thead>\n",
       "    <tr style=\"text-align: right;\">\n",
       "      <th></th>\n",
       "      <th>Artist</th>\n",
       "      <th>Followers_Spotify</th>\n",
       "    </tr>\n",
       "  </thead>\n",
       "  <tbody>\n",
       "    <tr>\n",
       "      <th>2</th>\n",
       "      <td>Eminem</td>\n",
       "      <td>29393199</td>\n",
       "    </tr>\n",
       "    <tr>\n",
       "      <th>19</th>\n",
       "      <td>Kanye West</td>\n",
       "      <td>10259641</td>\n",
       "    </tr>\n",
       "    <tr>\n",
       "      <th>12</th>\n",
       "      <td>Big Sean</td>\n",
       "      <td>6516509</td>\n",
       "    </tr>\n",
       "    <tr>\n",
       "      <th>10</th>\n",
       "      <td>Chance The Rapper</td>\n",
       "      <td>4333818</td>\n",
       "    </tr>\n",
       "    <tr>\n",
       "      <th>1</th>\n",
       "      <td>Kid Cudi</td>\n",
       "      <td>3229603</td>\n",
       "    </tr>\n",
       "  </tbody>\n",
       "</table>\n",
       "</div>"
      ],
      "text/plain": [
       "               Artist  Followers_Spotify\n",
       "2              Eminem           29393199\n",
       "19         Kanye West           10259641\n",
       "12           Big Sean            6516509\n",
       "10  Chance The Rapper            4333818\n",
       "1            Kid Cudi            3229603"
      ]
     },
     "execution_count": 41,
     "metadata": {},
     "output_type": "execute_result"
    }
   ],
   "source": [
    "MW = {\"Artist\":MW_artist,\"Followers_Spotify\":MW_spotify}\n",
    "df_mw = pd.DataFrame(MW)\n",
    "df_mw.sort_values(by=[\"Followers_Spotify\"], ascending=False).head()"
   ]
  },
  {
   "cell_type": "code",
   "execution_count": null,
   "metadata": {},
   "outputs": [],
   "source": [
    "https://www.azlyrics.com/k/kendricklamar.html\n",
    "https://www.azlyrics.com/j/jcole.html\n",
    "https://www.azlyrics.com/l/lilwayne.html\n",
    "https://www.azlyrics.com/e/eminem.html"
   ]
  }
 ],
 "metadata": {
  "kernelspec": {
   "display_name": "Python 3",
   "language": "python",
   "name": "python3"
  },
  "language_info": {
   "codemirror_mode": {
    "name": "ipython",
    "version": 3
   },
   "file_extension": ".py",
   "mimetype": "text/x-python",
   "name": "python",
   "nbconvert_exporter": "python",
   "pygments_lexer": "ipython3",
   "version": "3.7.3"
  }
 },
 "nbformat": 4,
 "nbformat_minor": 2
}
