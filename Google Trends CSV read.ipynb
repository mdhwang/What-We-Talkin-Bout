{
 "cells": [
  {
   "cell_type": "code",
   "execution_count": 42,
   "metadata": {},
   "outputs": [],
   "source": [
    "import pandas as pd\n",
    "import glob\n",
    "path = \"/Users/matthewhwang/Galvanize/Capstone1/Data/GTrends/West Coast Google Trends/*.csv\"\n",
    "for i,each in enumerate(glob.glob(path)):\n",
    "    df = pd.read_csv(each)\n",
    "    name = df.iloc[0][0].split(':')[0]\n",
    "    if i != 0:\n",
    "        df_master[name] = df\n",
    "    else:\n",
    "        df_master = df\n",
    "        df_master.columns = [name]"
   ]
  },
  {
   "cell_type": "code",
   "execution_count": 15,
   "metadata": {},
   "outputs": [],
   "source": [
    "df_master = df_master.iloc[1:]"
   ]
  },
  {
   "cell_type": "code",
   "execution_count": 16,
   "metadata": {},
   "outputs": [
    {
     "data": {
      "text/html": [
       "<div>\n",
       "<style scoped>\n",
       "    .dataframe tbody tr th:only-of-type {\n",
       "        vertical-align: middle;\n",
       "    }\n",
       "\n",
       "    .dataframe tbody tr th {\n",
       "        vertical-align: top;\n",
       "    }\n",
       "\n",
       "    .dataframe thead th {\n",
       "        text-align: right;\n",
       "    }\n",
       "</style>\n",
       "<table border=\"1\" class=\"dataframe\">\n",
       "  <thead>\n",
       "    <tr style=\"text-align: right;\">\n",
       "      <th></th>\n",
       "      <th>Nate Dogg</th>\n",
       "      <th>Ab-Soul</th>\n",
       "      <th>tupac shakur</th>\n",
       "      <th>Mack 10</th>\n",
       "      <th>Mac Dre</th>\n",
       "      <th>Outlawz</th>\n",
       "      <th>The Game</th>\n",
       "      <th>MC Ren</th>\n",
       "      <th>Ice Cube</th>\n",
       "      <th>Ice-T</th>\n",
       "      <th>...</th>\n",
       "      <th>MC Eiht</th>\n",
       "      <th>Jay Rock</th>\n",
       "      <th>N.W.A</th>\n",
       "      <th>Westside Connection</th>\n",
       "      <th>Warren G</th>\n",
       "      <th>Kurupt</th>\n",
       "      <th>The Dogg Pound</th>\n",
       "      <th>Easy E</th>\n",
       "      <th>Vince Staples</th>\n",
       "      <th>Tyler, the Creator</th>\n",
       "    </tr>\n",
       "  </thead>\n",
       "  <tbody>\n",
       "    <tr>\n",
       "      <th>2004-01</th>\n",
       "      <td>1</td>\n",
       "      <td>0</td>\n",
       "      <td>50</td>\n",
       "      <td>41</td>\n",
       "      <td>3</td>\n",
       "      <td>32</td>\n",
       "      <td>41</td>\n",
       "      <td>2</td>\n",
       "      <td>11</td>\n",
       "      <td>33</td>\n",
       "      <td>...</td>\n",
       "      <td>38</td>\n",
       "      <td>7</td>\n",
       "      <td>2</td>\n",
       "      <td>100</td>\n",
       "      <td>28</td>\n",
       "      <td>29</td>\n",
       "      <td>0</td>\n",
       "      <td>4</td>\n",
       "      <td>0</td>\n",
       "      <td>0</td>\n",
       "    </tr>\n",
       "    <tr>\n",
       "      <th>2004-02</th>\n",
       "      <td>1</td>\n",
       "      <td>0</td>\n",
       "      <td>55</td>\n",
       "      <td>16</td>\n",
       "      <td>2</td>\n",
       "      <td>85</td>\n",
       "      <td>36</td>\n",
       "      <td>2</td>\n",
       "      <td>11</td>\n",
       "      <td>30</td>\n",
       "      <td>...</td>\n",
       "      <td>44</td>\n",
       "      <td>8</td>\n",
       "      <td>8</td>\n",
       "      <td>74</td>\n",
       "      <td>28</td>\n",
       "      <td>16</td>\n",
       "      <td>50</td>\n",
       "      <td>6</td>\n",
       "      <td>0</td>\n",
       "      <td>0</td>\n",
       "    </tr>\n",
       "    <tr>\n",
       "      <th>2004-03</th>\n",
       "      <td>1</td>\n",
       "      <td>0</td>\n",
       "      <td>48</td>\n",
       "      <td>21</td>\n",
       "      <td>5</td>\n",
       "      <td>39</td>\n",
       "      <td>35</td>\n",
       "      <td>3</td>\n",
       "      <td>8</td>\n",
       "      <td>25</td>\n",
       "      <td>...</td>\n",
       "      <td>28</td>\n",
       "      <td>8</td>\n",
       "      <td>3</td>\n",
       "      <td>54</td>\n",
       "      <td>33</td>\n",
       "      <td>24</td>\n",
       "      <td>0</td>\n",
       "      <td>6</td>\n",
       "      <td>0</td>\n",
       "      <td>0</td>\n",
       "    </tr>\n",
       "    <tr>\n",
       "      <th>2004-04</th>\n",
       "      <td>1</td>\n",
       "      <td>0</td>\n",
       "      <td>47</td>\n",
       "      <td>21</td>\n",
       "      <td>5</td>\n",
       "      <td>79</td>\n",
       "      <td>34</td>\n",
       "      <td>3</td>\n",
       "      <td>7</td>\n",
       "      <td>19</td>\n",
       "      <td>...</td>\n",
       "      <td>42</td>\n",
       "      <td>9</td>\n",
       "      <td>7</td>\n",
       "      <td>36</td>\n",
       "      <td>18</td>\n",
       "      <td>44</td>\n",
       "      <td>0</td>\n",
       "      <td>4</td>\n",
       "      <td>0</td>\n",
       "      <td>0</td>\n",
       "    </tr>\n",
       "    <tr>\n",
       "      <th>2004-05</th>\n",
       "      <td>1</td>\n",
       "      <td>0</td>\n",
       "      <td>48</td>\n",
       "      <td>29</td>\n",
       "      <td>5</td>\n",
       "      <td>55</td>\n",
       "      <td>36</td>\n",
       "      <td>5</td>\n",
       "      <td>9</td>\n",
       "      <td>22</td>\n",
       "      <td>...</td>\n",
       "      <td>20</td>\n",
       "      <td>8</td>\n",
       "      <td>3</td>\n",
       "      <td>24</td>\n",
       "      <td>23</td>\n",
       "      <td>41</td>\n",
       "      <td>44</td>\n",
       "      <td>7</td>\n",
       "      <td>0</td>\n",
       "      <td>0</td>\n",
       "    </tr>\n",
       "  </tbody>\n",
       "</table>\n",
       "<p>5 rows × 25 columns</p>\n",
       "</div>"
      ],
      "text/plain": [
       "        Nate Dogg Ab-Soul tupac shakur Mack 10 Mac Dre Outlawz The Game  \\\n",
       "2004-01         1       0           50      41       3      32       41   \n",
       "2004-02         1       0           55      16       2      85       36   \n",
       "2004-03         1       0           48      21       5      39       35   \n",
       "2004-04         1       0           47      21       5      79       34   \n",
       "2004-05         1       0           48      29       5      55       36   \n",
       "\n",
       "        MC Ren Ice Cube Ice-T  ... MC Eiht Jay Rock N.W.A Westside Connection  \\\n",
       "2004-01      2       11    33  ...      38        7     2                 100   \n",
       "2004-02      2       11    30  ...      44        8     8                  74   \n",
       "2004-03      3        8    25  ...      28        8     3                  54   \n",
       "2004-04      3        7    19  ...      42        9     7                  36   \n",
       "2004-05      5        9    22  ...      20        8     3                  24   \n",
       "\n",
       "        Warren G Kurupt The Dogg Pound Easy E Vince Staples Tyler, the Creator  \n",
       "2004-01       28     29              0      4             0                  0  \n",
       "2004-02       28     16             50      6             0                  0  \n",
       "2004-03       33     24              0      6             0                  0  \n",
       "2004-04       18     44              0      4             0                  0  \n",
       "2004-05       23     41             44      7             0                  0  \n",
       "\n",
       "[5 rows x 25 columns]"
      ]
     },
     "execution_count": 16,
     "metadata": {},
     "output_type": "execute_result"
    }
   ],
   "source": [
    "df_master.head()"
   ]
  },
  {
   "cell_type": "code",
   "execution_count": 17,
   "metadata": {},
   "outputs": [],
   "source": [
    "df_master.to_csv(r'/Users/matthewhwang/Galvanize/Capstone1/Data/GTrends/West Coast Google Trends/West_Coast_Master.csv')"
   ]
  },
  {
   "cell_type": "code",
   "execution_count": 43,
   "metadata": {},
   "outputs": [
    {
     "data": {
      "text/plain": [
       "['Nate Dogg',\n",
       " 'Ab-Soul',\n",
       " 'tupac shakur',\n",
       " 'Mack 10',\n",
       " 'Mac Dre',\n",
       " 'Outlawz',\n",
       " 'The Game',\n",
       " 'MC Ren',\n",
       " 'Ice Cube',\n",
       " 'Ice-T',\n",
       " 'Schoolboy Q',\n",
       " 'kendrick lamar',\n",
       " 'Snoop Dogg',\n",
       " 'Dr. Dre',\n",
       " 'YG',\n",
       " 'MC Eiht',\n",
       " 'Jay Rock',\n",
       " 'N.W.A',\n",
       " 'Westside Connection',\n",
       " 'Warren G',\n",
       " 'Kurupt',\n",
       " 'The Dogg Pound',\n",
       " 'Easy E',\n",
       " 'Vince Staples',\n",
       " 'Tyler, the Creator']"
      ]
     },
     "execution_count": 43,
     "metadata": {},
     "output_type": "execute_result"
    }
   ],
   "source": [
    "df_master.columns\n",
    "list(df_master)"
   ]
  },
  {
   "cell_type": "code",
   "execution_count": 20,
   "metadata": {},
   "outputs": [],
   "source": [
    "WC_spotify = [692848,586439,6848682,289612,212261,90560,2168141,186010,3084248,538891,2716305,13107425,5049895,4455266,1869034,169854,661577,2495924,548580,972886,280146,368011,2125159,928212,3266304]"
   ]
  },
  {
   "cell_type": "code",
   "execution_count": 24,
   "metadata": {},
   "outputs": [],
   "source": [
    "ec = pd.read_csv(\"/Users/matthewhwang/Galvanize/Capstone1/Data/GTrends/Master Lists/East_Coast_Master.csv\")"
   ]
  },
  {
   "cell_type": "code",
   "execution_count": 44,
   "metadata": {},
   "outputs": [
    {
     "data": {
      "text/plain": [
       "['Unnamed: 0',\n",
       " 'DMX',\n",
       " 'Redman',\n",
       " 'The Notorious B.I.G.',\n",
       " 'KRS-One',\n",
       " 'Ol Dirty Bastard',\n",
       " 'Mos Def',\n",
       " '50 Cent',\n",
       " 'Mobb Deep',\n",
       " 'Nas',\n",
       " 'J. Cole',\n",
       " 'A Tribe Called Quest',\n",
       " 'Gang Starr',\n",
       " 'Wu-Tang Clan',\n",
       " 'Jay-Z',\n",
       " 'Run DMC',\n",
       " 'Raekwon',\n",
       " 'Joey Bada$$',\n",
       " 'Rakim',\n",
       " 'Ghostface Killah',\n",
       " 'Busta Rhymes',\n",
       " 'Big L',\n",
       " 'Public Enemy',\n",
       " 'Method Man',\n",
       " 'Big Pun',\n",
       " 'LL Cool J']"
      ]
     },
     "execution_count": 44,
     "metadata": {},
     "output_type": "execute_result"
    }
   ],
   "source": [
    "ec.columns\n",
    "list(ec)"
   ]
  },
  {
   "cell_type": "code",
   "execution_count": 30,
   "metadata": {},
   "outputs": [],
   "source": [
    "EC_spotify = [1581959,517238,4276986,320953,437374,724620,5494448,865204,1664562,9146704,1034099,467370,1416932,4874065,623063,319555,1471420,374281,437300,1241700,378518,511801,954078,534970,759530]"
   ]
  },
  {
   "cell_type": "code",
   "execution_count": 31,
   "metadata": {},
   "outputs": [
    {
     "data": {
      "text/plain": [
       "25"
      ]
     },
     "execution_count": 31,
     "metadata": {},
     "output_type": "execute_result"
    }
   ],
   "source": [
    "len(EC_spotify)"
   ]
  },
  {
   "cell_type": "code",
   "execution_count": 33,
   "metadata": {},
   "outputs": [],
   "source": [
    "ds = pd.read_csv(\"/Users/matthewhwang/Galvanize/Capstone1/Data/GTrends/Master Lists/Dirty_South_Master.csv\")"
   ]
  },
  {
   "cell_type": "code",
   "execution_count": 45,
   "metadata": {},
   "outputs": [
    {
     "data": {
      "text/plain": [
       "['Unnamed: 0',\n",
       " 'Mystikal',\n",
       " 'Killer Mike',\n",
       " 'Outkast',\n",
       " '2 Chainz',\n",
       " 'Trick Daddy',\n",
       " 'Project Pat',\n",
       " 'Lil Wayne',\n",
       " 'Underground Kingz',\n",
       " 'André 3000',\n",
       " 'Geto Boys',\n",
       " 'Big Boi',\n",
       " 'yelawolf',\n",
       " 'Scarface',\n",
       " 'Ludacris',\n",
       " 'Young Jeezy',\n",
       " 'Pimp C',\n",
       " 'Goodie Mob',\n",
       " 'T.I.',\n",
       " 'Big K.R.I.T.',\n",
       " 'Bun B',\n",
       " 'Three 6 Mafia',\n",
       " 'Juvenile',\n",
       " 'J. Cole',\n",
       " 'David Banner',\n",
       " 'Eightball & MJG']"
      ]
     },
     "execution_count": 45,
     "metadata": {},
     "output_type": "execute_result"
    }
   ],
   "source": [
    "ds.columns\n",
    "list(ds)"
   ]
  },
  {
   "cell_type": "code",
   "execution_count": 35,
   "metadata": {},
   "outputs": [],
   "source": [
    "DS_spotify = [316002,157847,1169457,4835400,466483,314378,8249588,448851,134488,340270,239086,1119359,416774,1673630,1354876,477956,115746,2966825,498741,453624,574580,535793,9146704,363421,159493]"
   ]
  },
  {
   "cell_type": "code",
   "execution_count": 36,
   "metadata": {},
   "outputs": [
    {
     "data": {
      "text/plain": [
       "25"
      ]
     },
     "execution_count": 36,
     "metadata": {},
     "output_type": "execute_result"
    }
   ],
   "source": [
    "len(DS_spotify)"
   ]
  },
  {
   "cell_type": "code",
   "execution_count": 37,
   "metadata": {},
   "outputs": [],
   "source": [
    "mw = pd.read_csv(\"/Users/matthewhwang/Galvanize/Capstone1/Data/GTrends/Master Lists/MidWest_Master.csv\")"
   ]
  },
  {
   "cell_type": "code",
   "execution_count": 46,
   "metadata": {},
   "outputs": [
    {
     "data": {
      "text/plain": [
       "['Unnamed: 0',\n",
       " 'Feloni',\n",
       " 'Kid Cudi',\n",
       " 'Eminem',\n",
       " 'Trick-Trick',\n",
       " 'MC Swift',\n",
       " 'Da Brat',\n",
       " 'Tech N9ne',\n",
       " 'Danny Brown',\n",
       " 'Proof',\n",
       " 'Bone Thugs-N-Harmony',\n",
       " 'Chance The Rapper',\n",
       " 'j dilla',\n",
       " 'Big Sean',\n",
       " 'Royce da 59',\n",
       " 'Twista',\n",
       " 'Kuniva',\n",
       " 'Common',\n",
       " 'D12',\n",
       " 'Lupe Fiasco',\n",
       " 'Kanye West',\n",
       " 'Obie Trice',\n",
       " 'Bizarre',\n",
       " 'Bad Meets Evil',\n",
       " 'nelly',\n",
       " 'Kon Artist']"
      ]
     },
     "execution_count": 46,
     "metadata": {},
     "output_type": "execute_result"
    }
   ],
   "source": [
    "mw.columns\n",
    "list(mw)"
   ]
  },
  {
   "cell_type": "code",
   "execution_count": 39,
   "metadata": {},
   "outputs": [],
   "source": [
    "MW_spotify = [244,3229603,29393199,85747,66,2015123,1368185,422165,83941,1217625,4333818,322229,6516509,357550,513930,19840,536053,1142494,1222346,10259641,398190,74657,839995,1325347,0]"
   ]
  },
  {
   "cell_type": "code",
   "execution_count": 40,
   "metadata": {},
   "outputs": [
    {
     "data": {
      "text/plain": [
       "25"
      ]
     },
     "execution_count": 40,
     "metadata": {},
     "output_type": "execute_result"
    }
   ],
   "source": [
    "len(MW_spotify)"
   ]
  },
  {
   "cell_type": "code",
   "execution_count": null,
   "metadata": {},
   "outputs": [],
   "source": []
  }
 ],
 "metadata": {
  "kernelspec": {
   "display_name": "Python 3",
   "language": "python",
   "name": "python3"
  },
  "language_info": {
   "codemirror_mode": {
    "name": "ipython",
    "version": 3
   },
   "file_extension": ".py",
   "mimetype": "text/x-python",
   "name": "python",
   "nbconvert_exporter": "python",
   "pygments_lexer": "ipython3",
   "version": "3.7.3"
  }
 },
 "nbformat": 4,
 "nbformat_minor": 2
}
